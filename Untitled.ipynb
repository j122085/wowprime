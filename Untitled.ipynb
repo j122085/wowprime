{
 "cells": [
  {
   "cell_type": "code",
   "execution_count": 1,
   "metadata": {},
   "outputs": [
    {
     "name": "stderr",
     "output_type": "stream",
     "text": [
      "Exception:\n",
      "Traceback (most recent call last):\n",
      "  File \"D:\\anaconda\\lib\\site-packages\\pip\\basecommand.py\", line 215, in main\n",
      "    status = self.run(options, args)\n",
      "  File \"D:\\anaconda\\lib\\site-packages\\pip\\commands\\install.py\", line 335, in run\n",
      "    wb.build(autobuilding=True)\n",
      "  File \"D:\\anaconda\\lib\\site-packages\\pip\\wheel.py\", line 749, in build\n",
      "    self.requirement_set.prepare_files(self.finder)\n",
      "  File \"D:\\anaconda\\lib\\site-packages\\pip\\req\\req_set.py\", line 380, in prepare_files\n",
      "    ignore_dependencies=self.ignore_dependencies))\n",
      "  File \"D:\\anaconda\\lib\\site-packages\\pip\\req\\req_set.py\", line 487, in _prepare_file\n",
      "    req_to_install, finder)\n",
      "  File \"D:\\anaconda\\lib\\site-packages\\pip\\req\\req_set.py\", line 428, in _check_skip_installed\n",
      "    req_to_install, upgrade_allowed)\n",
      "  File \"D:\\anaconda\\lib\\site-packages\\pip\\index.py\", line 465, in find_requirement\n",
      "    all_candidates = self.find_all_candidates(req.name)\n",
      "  File \"D:\\anaconda\\lib\\site-packages\\pip\\index.py\", line 423, in find_all_candidates\n",
      "    for page in self._get_pages(url_locations, project_name):\n",
      "  File \"D:\\anaconda\\lib\\site-packages\\pip\\index.py\", line 568, in _get_pages\n",
      "    page = self._get_page(location)\n",
      "  File \"D:\\anaconda\\lib\\site-packages\\pip\\index.py\", line 683, in _get_page\n",
      "    return HTMLPage.get_page(link, session=self.session)\n",
      "  File \"D:\\anaconda\\lib\\site-packages\\pip\\index.py\", line 811, in get_page\n",
      "    inst = cls(resp.content, resp.url, resp.headers)\n",
      "  File \"D:\\anaconda\\lib\\site-packages\\pip\\index.py\", line 731, in __init__\n",
      "    namespaceHTMLElements=False,\n",
      "TypeError: parse() got an unexpected keyword argument 'transport_encoding'\n"
     ]
    }
   ],
   "source": [
    "!pip install --upgrade tensorflow"
   ]
  },
  {
   "cell_type": "code",
   "execution_count": null,
   "metadata": {
    "collapsed": true
   },
   "outputs": [],
   "source": []
  }
 ],
 "metadata": {
  "kernelspec": {
   "display_name": "Python 3",
   "language": "python",
   "name": "python3"
  },
  "language_info": {
   "codemirror_mode": {
    "name": "ipython",
    "version": 3
   },
   "file_extension": ".py",
   "mimetype": "text/x-python",
   "name": "python",
   "nbconvert_exporter": "python",
   "pygments_lexer": "ipython3",
   "version": "3.6.3"
  }
 },
 "nbformat": 4,
 "nbformat_minor": 2
}
