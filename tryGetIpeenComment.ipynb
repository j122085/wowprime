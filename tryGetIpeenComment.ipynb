{
 "cells": [
  {
   "cell_type": "code",
   "execution_count": null,
   "metadata": {
    "collapsed": true
   },
   "outputs": [],
   "source": [
    "import requests\n",
    "from bs4 import BeautifulSoup as bs\n",
    "import re\n",
    "import json"
   ]
  },
  {
   "cell_type": "code",
   "execution_count": null,
   "metadata": {
    "collapsed": true
   },
   "outputs": [],
   "source": [
    "# url=\"http://www.ipeen.com.tw/shop/1122770\"\n",
    "# res=requests.get(url)\n",
    "# soup=bs(res.text,\"lxml\")\n",
    "\n",
    "filename=\"38783.html\"\n",
    "with open(\"../data/html2/\"+filename,encoding=\"utf8\") as f:\n",
    "    data=f.read()\n",
    "soup=bs(data,\"lxml\")\n",
    "try:\n",
    "    commentPage=int(int(re.findall(\"會員分享文 \\(([0-9]+)\\)\",soup.text)[0])/5)+1\n",
    "except:\n",
    "    commentPage=0"
   ]
  },
  {
   "cell_type": "code",
   "execution_count": null,
   "metadata": {
    "collapsed": true
   },
   "outputs": [],
   "source": [
    "url=\"http://www.ipeen.com.tw/shop/\"+filename.split(\".\")[0]\n",
    "url"
   ]
  },
  {
   "cell_type": "code",
   "execution_count": null,
   "metadata": {
    "collapsed": true
   },
   "outputs": [],
   "source": [
    "peenlist=[]\n",
    "for i in range(1,commentPage+1):\n",
    "    url2=url+'/comments?p='+str(i)\n",
    "    res2=requests.get(url2)\n",
    "    if res2.status_code == 200:\n",
    "        soup2=bs(res2.text,'lxml')\n",
    "        pagepeenlist=['http://www.ipeen.com.tw'+i['href'] for i in soup2.select(\"p.summary > a\") if \"checkin\" not in i['href']]\n",
    "        peenlist+=pagepeenlist\n",
    "peenlist"
   ]
  },
  {
   "cell_type": "code",
   "execution_count": null,
   "metadata": {
    "collapsed": true
   },
   "outputs": [],
   "source": [
    "res3=requests.get(\"http://www.ipeen.com.tw/comment/571542\")\n",
    "soup=bs(res3.text,\"lxml\")\n",
    "soup.select_one(\"div.description\").text.replace(\"\\n\",\"\").replace(\"\\xa0\",\"\").replace(\"\\t\",\"\")"
   ]
  },
  {
   "cell_type": "code",
   "execution_count": null,
   "metadata": {
    "collapsed": true
   },
   "outputs": [],
   "source": [
    "def getcommentlist(diendata):\n",
    "    commentlist = []\n",
    "    n=0\n",
    "    for url in diendata[\"comments\"]:\n",
    "        n+=1\n",
    "        if n%50==0:\n",
    "            time.sleep(3)\n",
    "        res = requests.get(url)\n",
    "        print(url)\n",
    "        try:\n",
    "            if res.status_code == 200:\n",
    "                soup = bs(res.text, 'lxml')\n",
    "                res.close()\n",
    "                title = soup.select(\"#comment > header > div > div > h1\")[0].text.replace(\"\\n\", \"\").strip().replace(\" \", \"\")\n",
    "                comment = \"\".join([i.text for i in soup.select('div.description')]).replace(\"\\u200b\", \"\").replace(\"\\u3000\", \"\").replace(\"\\n\", \"\").replace(\"\\xa0\", \"\").replace(\"\\t\", \"\").replace(\" \", \"\")\n",
    "                date = soup.select('p.inline.date > span')[0].text\n",
    "                click = int(soup.select(\"#comment > header > div > div > div.actions > span\")[1].text.split(\"共 \")[1].split(\" 次瀏覽\")[0].replace(\",\", \"\"))\n",
    "                try:\n",
    "                    replys = [re.findall('.[0-9]{4}-[0-9]{2}-[0-9]{2} [0-9]{2}:[0-9]{2}:[0-9]{2}([^檢舉]*)',\n",
    "                    reply.text.replace(\"\\n\", \"\").replace(\"\\xa0\", \"\"))[0] for reply in soup.select(\"#reply > li\")]\n",
    "                except:\n",
    "                    replys = None\n",
    "            commentdict = {}\n",
    "            commentdict[\"url\"] = url\n",
    "            commentdict[\"name\"] = diendata['name']\n",
    "            commentdict[\"date\"] = date\n",
    "            commentdict[\"title\"] = title\n",
    "            commentdict[\"content\"] = comment\n",
    "            commentdict[\"click\"] = click\n",
    "            commentdict[\"message\"] = replys\n",
    "            commentlist.append(commentdict)\n",
    "        except exception as e:\n",
    "            print(e)\n",
    "\n",
    "    return commentlist"
   ]
  },
  {
   "cell_type": "code",
   "execution_count": null,
   "metadata": {
    "collapsed": true
   },
   "outputs": [],
   "source": [
    "getcommentlist(13)"
   ]
  },
  {
   "cell_type": "markdown",
   "metadata": {},
   "source": [
    "# 取得評論"
   ]
  },
  {
   "cell_type": "code",
   "execution_count": null,
   "metadata": {},
   "outputs": [
    {
     "name": "stdout",
     "output_type": "stream",
     "text": [
      "http://www.ipeen.com.tw/comment/824854\n",
      "1009014已完成\n",
      "1009016已完成\n",
      "http://www.ipeen.com.tw/comment/844714\n",
      "1009018已完成\n",
      "1009020已完成\n",
      "http://www.ipeen.com.tw/comment/825782\n",
      "1009024已完成\n",
      "http://www.ipeen.com.tw/comment/824934\n",
      "http://www.ipeen.com.tw/comment/462350\n",
      "1009026已完成\n",
      "http://www.ipeen.com.tw/comment/824916\n",
      "1009028已完成\n",
      "1009030已完成\n",
      "1009032已完成\n",
      "http://www.ipeen.com.tw/comment/825764\n",
      "http://www.ipeen.com.tw/comment/824930\n",
      "1009034已完成\n",
      "http://www.ipeen.com.tw/comment/824938\n",
      "1009038已完成\n",
      "http://www.ipeen.com.tw/comment/1029634\n",
      "http://www.ipeen.com.tw/comment/889888\n",
      "http://www.ipeen.com.tw/comment/826158\n",
      "1009040已完成\n",
      "http://www.ipeen.com.tw/comment/824946\n",
      "1009044已完成\n",
      "1009046已完成\n",
      "http://www.ipeen.com.tw/comment/824958\n",
      "1009048已完成\n",
      "http://www.ipeen.com.tw/comment/178847\n",
      "100905已完成\n",
      "http://www.ipeen.com.tw/comment/825054\n",
      "1009054已完成\n",
      "http://www.ipeen.com.tw/comment/825000\n",
      "1009056已完成\n",
      "http://www.ipeen.com.tw/comment/827746\n",
      "1009058已完成\n",
      "http://www.ipeen.com.tw/comment/825012\n",
      "1009060已完成\n",
      "1009066已完成\n",
      "http://www.ipeen.com.tw/comment/825090\n",
      "1009068已完成\n",
      "http://www.ipeen.com.tw/comment/1171856\n",
      "http://www.ipeen.com.tw/comment/1053804\n",
      "http://www.ipeen.com.tw/comment/1023860\n",
      "http://www.ipeen.com.tw/comment/1022262\n",
      "http://www.ipeen.com.tw/comment/1021836\n",
      "http://www.ipeen.com.tw/comment/1014740\n",
      "http://www.ipeen.com.tw/comment/1013820\n",
      "http://www.ipeen.com.tw/comment/1013260\n",
      "http://www.ipeen.com.tw/comment/1010594\n",
      "http://www.ipeen.com.tw/comment/1003698\n",
      "http://www.ipeen.com.tw/comment/922974\n",
      "http://www.ipeen.com.tw/comment/918576\n",
      "http://www.ipeen.com.tw/comment/918148\n",
      "http://www.ipeen.com.tw/comment/918140\n",
      "http://www.ipeen.com.tw/comment/912286\n",
      "http://www.ipeen.com.tw/comment/850424\n",
      "http://www.ipeen.com.tw/comment/830722\n",
      "http://www.ipeen.com.tw/comment/929650\n",
      "http://www.ipeen.com.tw/comment/924156\n",
      "http://www.ipeen.com.tw/comment/911958\n",
      "http://www.ipeen.com.tw/comment/910276\n",
      "http://www.ipeen.com.tw/comment/895860\n",
      "http://www.ipeen.com.tw/comment/884250\n",
      "http://www.ipeen.com.tw/comment/870732\n",
      "http://www.ipeen.com.tw/comment/825042\n",
      "1009074已完成\n",
      "1009078已完成\n",
      "100908已完成\n",
      "1009080已完成\n",
      "http://www.ipeen.com.tw/comment/825070\n",
      "1009082已完成\n",
      "http://www.ipeen.com.tw/comment/1480274\n",
      "http://www.ipeen.com.tw/comment/1461527\n",
      "http://www.ipeen.com.tw/comment/1430516\n",
      "http://www.ipeen.com.tw/comment/1424504\n",
      "http://www.ipeen.com.tw/comment/1417223\n",
      "http://www.ipeen.com.tw/comment/1390478\n",
      "http://www.ipeen.com.tw/comment/1385078\n",
      "http://www.ipeen.com.tw/comment/1331393\n",
      "http://www.ipeen.com.tw/comment/1223603\n",
      "http://www.ipeen.com.tw/comment/1137833\n",
      "http://www.ipeen.com.tw/comment/1044310\n",
      "http://www.ipeen.com.tw/comment/1030050\n",
      "http://www.ipeen.com.tw/comment/1016730\n"
     ]
    }
   ],
   "source": [
    "import os\n",
    "import json\n",
    "import time\n",
    "import requests\n",
    "from bs4 import BeautifulSoup as bs\n",
    "import re\n",
    "def getcommentlist(diendata):\n",
    "    commentlist = []\n",
    "    n=0\n",
    "    for url in diendata[\"comments\"]:\n",
    "        n+=1\n",
    "        if n%50==0:\n",
    "            time.sleep(3)\n",
    "        res = requests.get(url)\n",
    "        print(url)\n",
    "        try:\n",
    "            if res.status_code == 200:\n",
    "                soup = bs(res.text, 'lxml')\n",
    "                res.close()\n",
    "                title = soup.select(\"#comment > header > div > div > h1\")[0].text.replace(\"\\n\", \"\").strip().replace(\" \", \"\")\n",
    "                comment = \"\".join([i.text for i in soup.select('div.description')]).replace(\"\\u200b\", \"\").replace(\"\\u3000\", \"\").replace(\"\\n\", \"\").replace(\"\\xa0\", \"\").replace(\"\\t\", \"\").replace(\" \", \"\")\n",
    "                date = soup.select('p.inline.date > span')[0].text\n",
    "                click = int(soup.select(\"#comment > header > div > div > div.actions > span\")[1].text.split(\"共 \")[1].split(\" 次瀏覽\")[0].replace(\",\", \"\"))\n",
    "                try:\n",
    "                    replys = [re.findall('.[0-9]{4}-[0-9]{2}-[0-9]{2} [0-9]{2}:[0-9]{2}:[0-9]{2}([^檢舉]*)',\n",
    "                    reply.text.replace(\"\\n\", \"\").replace(\"\\xa0\", \"\"))[0] for reply in soup.select(\"#reply > li\")]\n",
    "                except:\n",
    "                    replys = None\n",
    "            commentdict = {}\n",
    "            commentdict[\"url\"] = url\n",
    "            commentdict[\"name\"] = diendata['name']\n",
    "            commentdict[\"date\"] = date\n",
    "            commentdict[\"title\"] = title\n",
    "            commentdict[\"content\"] = comment\n",
    "            commentdict[\"click\"] = click\n",
    "            commentdict[\"message\"] = replys\n",
    "            commentlist.append(commentdict)\n",
    "        except Exception as e:\n",
    "            print(e)\n",
    "\n",
    "    return commentlist\n",
    "\n",
    "\n",
    "if not os.path.exists('../data/diencomments'):\n",
    "    os.makedirs('../data/diencomments')\n",
    "with open(\"../data/diendataAddCommentUrl.json\",encoding=\"utf8\") as f:\n",
    "    data=json.load(f)\n",
    "for diendata in data:\n",
    "    if not os.path.exists(\"../data/diencomments/%s.json\"%diendata[\"id\"]):\n",
    "        diencomments=getcommentlist(diendata)\n",
    "        with open(\"../data/diencomments/%s.json\"%diendata[\"id\"],\"w\") as f:\n",
    "            json.dump(diencomments,f)\n",
    "            print(\"%s已完成\"%diendata[\"id\"])\n",
    "#             b=time.time()\n",
    "            time.sleep(len(diendata[\"comments\"])*0.5)\n",
    "#             e=time.time()\n",
    "#             print(e-b)\n",
    "    else:\n",
    "        pass"
   ]
  },
  {
   "cell_type": "code",
   "execution_count": null,
   "metadata": {
    "collapsed": true
   },
   "outputs": [],
   "source": [
    "with open(\"../data/diencomments/1000080.json\",encoding=\"utf8\") as f:\n",
    "    data=json.load(f)"
   ]
  },
  {
   "cell_type": "code",
   "execution_count": null,
   "metadata": {
    "collapsed": true
   },
   "outputs": [],
   "source": [
    "import json\n",
    "x=[json.load(open(\"../data/diencomments/\"+file)) for file in os.listdir(\"../data/diencomments\")]\n",
    "a=[]\n",
    "for i in x:\n",
    "    a=a+i\n",
    "len(a)\n",
    "    "
   ]
  },
  {
   "cell_type": "code",
   "execution_count": null,
   "metadata": {
    "collapsed": true
   },
   "outputs": [],
   "source": [
    "len(x)"
   ]
  },
  {
   "cell_type": "code",
   "execution_count": null,
   "metadata": {
    "collapsed": true
   },
   "outputs": [],
   "source": []
  }
 ],
 "metadata": {
  "kernelspec": {
   "display_name": "Python 3",
   "language": "python",
   "name": "python3"
  },
  "language_info": {
   "codemirror_mode": {
    "name": "ipython",
    "version": 3
   },
   "file_extension": ".py",
   "mimetype": "text/x-python",
   "name": "python",
   "nbconvert_exporter": "python",
   "pygments_lexer": "ipython3",
   "version": "3.6.3"
  }
 },
 "nbformat": 4,
 "nbformat_minor": 2
}
