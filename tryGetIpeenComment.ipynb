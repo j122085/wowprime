{
 "cells": [
  {
   "cell_type": "code",
   "execution_count": 1,
   "metadata": {
    "collapsed": true
   },
   "outputs": [],
   "source": [
    "import requests\n",
    "from bs4 import BeautifulSoup as bs\n",
    "import re\n",
    "import json"
   ]
  },
  {
   "cell_type": "code",
   "execution_count": null,
   "metadata": {
    "collapsed": true
   },
   "outputs": [],
   "source": [
    "# url=\"http://www.ipeen.com.tw/shop/1122770\"\n",
    "# res=requests.get(url)\n",
    "# soup=bs(res.text,\"lxml\")\n",
    "\n",
    "filename=\"38783.html\"\n",
    "with open(\"../data/html2/\"+filename,encoding=\"utf8\") as f:\n",
    "    data=f.read()\n",
    "soup=bs(data,\"lxml\")\n",
    "try:\n",
    "    commentPage=int(int(re.findall(\"會員分享文 \\(([0-9]+)\\)\",soup.text)[0])/5)+1\n",
    "except:\n",
    "    commentPage=0"
   ]
  },
  {
   "cell_type": "code",
   "execution_count": null,
   "metadata": {
    "collapsed": true
   },
   "outputs": [],
   "source": [
    "url=\"http://www.ipeen.com.tw/shop/\"+filename.split(\".\")[0]\n",
    "url"
   ]
  },
  {
   "cell_type": "code",
   "execution_count": null,
   "metadata": {
    "collapsed": true
   },
   "outputs": [],
   "source": [
    "peenlist=[]\n",
    "for i in range(1,commentPage+1):\n",
    "    url2=url+'/comments?p='+str(i)\n",
    "    res2=requests.get(url2)\n",
    "    if res2.status_code == 200:\n",
    "        soup2=bs(res2.text,'lxml')\n",
    "        pagepeenlist=['http://www.ipeen.com.tw'+i['href'] for i in soup2.select(\"p.summary > a\") if \"checkin\" not in i['href']]\n",
    "        peenlist+=pagepeenlist\n",
    "peenlist"
   ]
  },
  {
   "cell_type": "code",
   "execution_count": null,
   "metadata": {
    "collapsed": true
   },
   "outputs": [],
   "source": [
    "res3=requests.get(\"http://www.ipeen.com.tw/comment/571542\")\n",
    "soup=bs(res3.text,\"lxml\")\n",
    "soup.select_one(\"div.description\").text.replace(\"\\n\",\"\").replace(\"\\xa0\",\"\").replace(\"\\t\",\"\")"
   ]
  },
  {
   "cell_type": "code",
   "execution_count": null,
   "metadata": {
    "collapsed": true
   },
   "outputs": [],
   "source": [
    "def getcommentlist(diendata):\n",
    "    commentlist = []\n",
    "    n=0\n",
    "    for url in diendata[\"comments\"]:\n",
    "        n+=1\n",
    "        if n%50==0:\n",
    "            time.sleep(3)\n",
    "        res = requests.get(url)\n",
    "        print(url)\n",
    "        try:\n",
    "            if res.status_code == 200:\n",
    "                soup = bs(res.text, 'lxml')\n",
    "                res.close()\n",
    "                title = soup.select(\"#comment > header > div > div > h1\")[0].text.replace(\"\\n\", \"\").strip().replace(\" \", \"\")\n",
    "                comment = \"\".join([i.text for i in soup.select('div.description')]).replace(\"\\u200b\", \"\").replace(\"\\u3000\", \"\").replace(\"\\n\", \"\").replace(\"\\xa0\", \"\").replace(\"\\t\", \"\").replace(\" \", \"\")\n",
    "                date = soup.select('p.inline.date > span')[0].text\n",
    "                click = int(soup.select(\"#comment > header > div > div > div.actions > span\")[1].text.split(\"共 \")[1].split(\" 次瀏覽\")[0].replace(\",\", \"\"))\n",
    "                try:\n",
    "                    replys = [re.findall('.[0-9]{4}-[0-9]{2}-[0-9]{2} [0-9]{2}:[0-9]{2}:[0-9]{2}([^檢舉]*)',\n",
    "                    reply.text.replace(\"\\n\", \"\").replace(\"\\xa0\", \"\"))[0] for reply in soup.select(\"#reply > li\")]\n",
    "                except:\n",
    "                    replys = None\n",
    "            commentdict = {}\n",
    "            commentdict[\"url\"] = url\n",
    "            commentdict[\"name\"] = diendata['name']\n",
    "            commentdict[\"date\"] = date\n",
    "            commentdict[\"title\"] = title\n",
    "            commentdict[\"content\"] = comment\n",
    "            commentdict[\"click\"] = click\n",
    "            commentdict[\"message\"] = replys\n",
    "            commentlist.append(commentdict)\n",
    "        except exception as e:\n",
    "            print(e)\n",
    "\n",
    "    return commentlist"
   ]
  },
  {
   "cell_type": "code",
   "execution_count": null,
   "metadata": {
    "collapsed": true
   },
   "outputs": [],
   "source": [
    "getcommentlist(13)"
   ]
  },
  {
   "cell_type": "markdown",
   "metadata": {},
   "source": [
    "# 取得評論"
   ]
  },
  {
   "cell_type": "code",
   "execution_count": 4,
   "metadata": {
    "scrolled": true
   },
   "outputs": [
    {
     "name": "stdout",
     "output_type": "stream",
     "text": [
      "http://www.ipeen.com.tw/comment/1544834\n",
      "http://www.ipeen.com.tw/comment/920528\n",
      "http://www.ipeen.com.tw/comment/853472\n",
      "http://www.ipeen.com.tw/comment/599436\n",
      "http://www.ipeen.com.tw/comment/590976\n",
      "http://www.ipeen.com.tw/comment/472656\n",
      "http://www.ipeen.com.tw/comment/348963\n",
      "http://www.ipeen.com.tw/comment/318219\n",
      "http://www.ipeen.com.tw/comment/130161\n",
      "http://www.ipeen.com.tw/comment/120594\n",
      "http://www.ipeen.com.tw/comment/100541\n",
      "http://www.ipeen.com.tw/comment/99525\n",
      "http://www.ipeen.com.tw/comment/99499\n",
      "http://www.ipeen.com.tw/comment/82411\n",
      "http://www.ipeen.com.tw/comment/52039\n",
      "http://www.ipeen.com.tw/comment/32597\n",
      "http://www.ipeen.com.tw/comment/25294\n",
      "http://www.ipeen.com.tw/comment/15148\n",
      "http://www.ipeen.com.tw/comment/9117\n",
      "http://www.ipeen.com.tw/comment/426114\n",
      "http://www.ipeen.com.tw/comment/405386\n",
      "http://www.ipeen.com.tw/comment/183375\n",
      "38950已完成\n",
      "http://www.ipeen.com.tw/comment/9248\n",
      "38952已完成\n",
      "http://www.ipeen.com.tw/comment/34956\n",
      "http://www.ipeen.com.tw/comment/17875\n",
      "http://www.ipeen.com.tw/comment/17764\n",
      "38953已完成\n",
      "http://www.ipeen.com.tw/comment/34742\n",
      "38954已完成\n",
      "http://www.ipeen.com.tw/comment/9254\n",
      "38958已完成\n",
      "http://www.ipeen.com.tw/comment/17693\n",
      "3896已完成\n",
      "http://www.ipeen.com.tw/comment/832768\n",
      "http://www.ipeen.com.tw/comment/784900\n",
      "http://www.ipeen.com.tw/comment/730972\n",
      "http://www.ipeen.com.tw/comment/669452\n",
      "http://www.ipeen.com.tw/comment/638886\n",
      "http://www.ipeen.com.tw/comment/635094\n",
      "http://www.ipeen.com.tw/comment/433098\n",
      "http://www.ipeen.com.tw/comment/102309\n",
      "http://www.ipeen.com.tw/comment/74276\n",
      "http://www.ipeen.com.tw/comment/24291\n",
      "http://www.ipeen.com.tw/comment/9267\n",
      "http://www.ipeen.com.tw/comment/1308857\n",
      "http://www.ipeen.com.tw/comment/873174\n",
      "http://www.ipeen.com.tw/comment/843660\n",
      "http://www.ipeen.com.tw/comment/776146\n",
      "http://www.ipeen.com.tw/comment/551966\n",
      "http://www.ipeen.com.tw/comment/397108\n",
      "http://www.ipeen.com.tw/comment/184282\n",
      "http://www.ipeen.com.tw/comment/145477\n",
      "http://www.ipeen.com.tw/comment/144443\n",
      "38966已完成\n",
      "http://www.ipeen.com.tw/comment/180019\n",
      "http://www.ipeen.com.tw/comment/150785\n",
      "http://www.ipeen.com.tw/comment/146135\n",
      "http://www.ipeen.com.tw/comment/141522\n",
      "http://www.ipeen.com.tw/comment/101115\n",
      "http://www.ipeen.com.tw/comment/74689\n",
      "http://www.ipeen.com.tw/comment/71510\n",
      "http://www.ipeen.com.tw/comment/42560\n",
      "http://www.ipeen.com.tw/comment/14265\n",
      "http://www.ipeen.com.tw/comment/13929\n",
      "http://www.ipeen.com.tw/comment/183451\n",
      "http://www.ipeen.com.tw/comment/129925\n",
      "http://www.ipeen.com.tw/comment/122651\n",
      "http://www.ipeen.com.tw/comment/106276\n",
      "http://www.ipeen.com.tw/comment/67198\n",
      "http://www.ipeen.com.tw/comment/62601\n",
      "http://www.ipeen.com.tw/comment/61522\n",
      "http://www.ipeen.com.tw/comment/56236\n",
      "http://www.ipeen.com.tw/comment/39014\n",
      "http://www.ipeen.com.tw/comment/20391\n",
      "38967已完成\n"
     ]
    },
    {
     "ename": "KeyboardInterrupt",
     "evalue": "",
     "output_type": "error",
     "traceback": [
      "\u001b[1;31m---------------------------------------------------------------------------\u001b[0m",
      "\u001b[1;31mKeyboardInterrupt\u001b[0m                         Traceback (most recent call last)",
      "\u001b[1;32m<ipython-input-4-2ecaa7664978>\u001b[0m in \u001b[0;36m<module>\u001b[1;34m()\u001b[0m\n\u001b[0;32m     53\u001b[0m             \u001b[0mprint\u001b[0m\u001b[1;33m(\u001b[0m\u001b[1;34m\"%s已完成\"\u001b[0m\u001b[1;33m%\u001b[0m\u001b[0mdiendata\u001b[0m\u001b[1;33m[\u001b[0m\u001b[1;34m\"id\"\u001b[0m\u001b[1;33m]\u001b[0m\u001b[1;33m)\u001b[0m\u001b[1;33m\u001b[0m\u001b[0m\n\u001b[0;32m     54\u001b[0m \u001b[1;31m#             b=time.time()\u001b[0m\u001b[1;33m\u001b[0m\u001b[1;33m\u001b[0m\u001b[0m\n\u001b[1;32m---> 55\u001b[1;33m             \u001b[0mtime\u001b[0m\u001b[1;33m.\u001b[0m\u001b[0msleep\u001b[0m\u001b[1;33m(\u001b[0m\u001b[0mlen\u001b[0m\u001b[1;33m(\u001b[0m\u001b[0mdiendata\u001b[0m\u001b[1;33m[\u001b[0m\u001b[1;34m\"comments\"\u001b[0m\u001b[1;33m]\u001b[0m\u001b[1;33m)\u001b[0m\u001b[1;33m*\u001b[0m\u001b[1;36m0.18\u001b[0m\u001b[1;33m)\u001b[0m\u001b[1;33m\u001b[0m\u001b[0m\n\u001b[0m\u001b[0;32m     56\u001b[0m \u001b[1;31m#             e=time.time()\u001b[0m\u001b[1;33m\u001b[0m\u001b[1;33m\u001b[0m\u001b[0m\n\u001b[0;32m     57\u001b[0m \u001b[1;31m#             print(e-b)\u001b[0m\u001b[1;33m\u001b[0m\u001b[1;33m\u001b[0m\u001b[0m\n",
      "\u001b[1;31mKeyboardInterrupt\u001b[0m: "
     ]
    }
   ],
   "source": [
    "import os\n",
    "import json\n",
    "import time\n",
    "import requests\n",
    "from bs4 import BeautifulSoup as bs\n",
    "import re\n",
    "def getcommentlist(diendata):\n",
    "    commentlist = []\n",
    "    n=0\n",
    "    for url in diendata[\"comments\"]:\n",
    "        n+=1\n",
    "        if n%50==0:\n",
    "            time.sleep(3)\n",
    "        res = requests.get(url)\n",
    "        print(url)\n",
    "        try:\n",
    "            if res.status_code == 200:\n",
    "                soup = bs(res.text, 'lxml')\n",
    "                res.close()\n",
    "                title = soup.select(\"#comment > header > div > div > h1\")[0].text.replace(\"\\n\", \"\").strip().replace(\" \", \"\")\n",
    "                comment = \"\".join([i.text for i in soup.select('div.description')]).replace(\"\\u200b\", \"\").replace(\"\\u3000\", \"\").replace(\"\\n\", \"\").replace(\"\\xa0\", \"\").replace(\"\\t\", \"\").replace(\" \", \"\")\n",
    "                date = soup.select('p.inline.date > span')[0].text\n",
    "                click = int(soup.select(\"#comment > header > div > div > div.actions > span\")[1].text.split(\"共 \")[1].split(\" 次瀏覽\")[0].replace(\",\", \"\"))\n",
    "                try:\n",
    "                    replys = [re.findall('.[0-9]{4}-[0-9]{2}-[0-9]{2} [0-9]{2}:[0-9]{2}:[0-9]{2}([^檢舉]*)',\n",
    "                    reply.text.replace(\"\\n\", \"\").replace(\"\\xa0\", \"\"))[0] for reply in soup.select(\"#reply > li\")]\n",
    "                except:\n",
    "                    replys = None\n",
    "            commentdict = {}\n",
    "            commentdict[\"url\"] = url\n",
    "            commentdict[\"name\"] = diendata['name']\n",
    "            commentdict[\"date\"] = date\n",
    "            commentdict[\"title\"] = title\n",
    "            commentdict[\"content\"] = comment\n",
    "            commentdict[\"click\"] = click\n",
    "            commentdict[\"message\"] = replys\n",
    "            commentlist.append(commentdict)\n",
    "        except Exception as e:\n",
    "            print(e)\n",
    "\n",
    "    return commentlist\n",
    "\n",
    "\n",
    "if not os.path.exists('../data/diencomments'):\n",
    "    os.makedirs('../data/diencomments')\n",
    "with open(\"../data/diendataAddCommentUrl.json\",encoding=\"utf8\") as f:\n",
    "    data=json.load(f)\n",
    "for diendata in data:\n",
    "    if not os.path.exists(\"../data/diencomments/%s.json\"%diendata[\"id\"]):\n",
    "        diencomments=getcommentlist(diendata)\n",
    "        with open(\"../data/diencomments/%s.json\"%diendata[\"id\"],\"w\") as f:\n",
    "            json.dump(diencomments,f)\n",
    "            print(\"%s已完成\"%diendata[\"id\"])\n",
    "#             b=time.time()\n",
    "            time.sleep(len(diendata[\"comments\"])*0.18)\n",
    "#             e=time.time()\n",
    "#             print(e-b)\n",
    "    else:\n",
    "        pass"
   ]
  },
  {
   "cell_type": "code",
   "execution_count": null,
   "metadata": {
    "collapsed": true
   },
   "outputs": [],
   "source": [
    "with open(\"../data/diencomments/1000080.json\",encoding=\"utf8\") as f:\n",
    "    data=json.load(f)"
   ]
  },
  {
   "cell_type": "code",
   "execution_count": null,
   "metadata": {
    "collapsed": true
   },
   "outputs": [],
   "source": [
    "import json\n",
    "# x=[json.load(open(\"../data/diencomments/\"+file)) for file in os.listdir(\"../data/diencomments\")]\n",
    "x=[{\"id\":file.split(\".\")[0],\"comments\":json.load(open(\"../data/diencomments/\"+file))} for file in os.listdir(\"../data/diencomments\")]\n",
    "print(\"讀取完畢\")\n",
    "\n",
    "\n",
    "def flat_list_v_1(the_list):\n",
    "    is_nested = True\n",
    "    before = the_list[:]\n",
    "    while is_nested:\n",
    "        is_nested = False\n",
    "        now = []\n",
    "        for item in before:\n",
    "            if isinstance(item, list):\n",
    "                now.extend(item)\n",
    "                is_nested = True\n",
    "            else:\n",
    "                now.append(item)\n",
    "        before = now\n",
    "    return before\n",
    "\n",
    "# a=flat_list_v_1(x)\n",
    "\n",
    "# print(\"list解開完畢\")\n",
    "\n",
    "# len(a)\n",
    "\n",
    "    "
   ]
  },
  {
   "cell_type": "code",
   "execution_count": null,
   "metadata": {
    "collapsed": true
   },
   "outputs": [],
   "source": [
    "x=[dien['comments'] for dien in a]\n",
    "a=flat_list_v_1(x)\n",
    "len(a)"
   ]
  },
  {
   "cell_type": "code",
   "execution_count": null,
   "metadata": {
    "collapsed": true
   },
   "outputs": [],
   "source": [
    "a[:100]"
   ]
  },
  {
   "cell_type": "code",
   "execution_count": null,
   "metadata": {
    "collapsed": true
   },
   "outputs": [],
   "source": []
  }
 ],
 "metadata": {
  "kernelspec": {
   "display_name": "Python 3",
   "language": "python",
   "name": "python3"
  },
  "language_info": {
   "codemirror_mode": {
    "name": "ipython",
    "version": 3
   },
   "file_extension": ".py",
   "mimetype": "text/x-python",
   "name": "python",
   "nbconvert_exporter": "python",
   "pygments_lexer": "ipython3",
   "version": "3.6.3"
  }
 },
 "nbformat": 4,
 "nbformat_minor": 2
}
