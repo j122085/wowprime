{
 "cells": [
  {
   "cell_type": "code",
   "execution_count": 111,
   "metadata": {
    "collapsed": true
   },
   "outputs": [],
   "source": [
    "from selenium import webdriver\n",
    "from selenium.webdriver.common.keys import Keys\n",
    "from selenium.webdriver.common.by import By\n",
    "from selenium.webdriver.support.ui import Select\n",
    "import os\n",
    "import time \n",
    "import xl2dict\n",
    "from selenium.webdriver.chrome.options import Options\n",
    "from selenium.webdriver.common.action_chains import ActionChains#滑鼠套件\n"
   ]
  },
  {
   "cell_type": "markdown",
   "metadata": {},
   "source": [
    "# 找到excel資料存放的位置，將所有檔案的路徑變成list"
   ]
  },
  {
   "cell_type": "code",
   "execution_count": 113,
   "metadata": {
    "scrolled": true
   },
   "outputs": [
    {
     "data": {
      "text/plain": [
       "{'個人自願提繳率(%)': '',\n",
       " '勞基法特殊身分別': '',\n",
       " '勞工保險證號': '05952202',\n",
       " '勞工保險證號檢查碼': 'F',\n",
       " '勞退提繳日期(與勞保加保日期不同時才需輸入)': '',\n",
       " '已領取社會保險給付種類': '',\n",
       " '提繳身分別': '1',\n",
       " '月實際工資': '11100',\n",
       " '格式別': '1',\n",
       " '特殊身分別': '1',\n",
       " '異動別': '4',\n",
       " '被保險人出生日期': '0880224',\n",
       " '被保險人外籍': '',\n",
       " '被保險人姓名': '吳名豪',\n",
       " '被保險人性別': '',\n",
       " '被保險人身份證號': 'A130528512',\n",
       " '雇主提繳率(%)': '6'}"
      ]
     },
     "execution_count": 113,
     "metadata": {},
     "output_type": "execute_result"
    }
   ],
   "source": [
    "myxlobject= xl2dict.XlToDict()\n",
    "dataDict=myxlobject.convert_sheet_to_dict(file_path=pathList[0], sheet=\"First Sheet\")\n",
    "dataDict[0]"
   ]
  },
  {
   "cell_type": "markdown",
   "metadata": {},
   "source": [
    "# 將每個excel轉成dict，並且判斷裡面內容:\n",
    "### 　　單位-保險證號\n",
    "### 　　加保、退保、調保\n",
    "### 　　三合一、二合一\n",
    "\n",
    "# 讓使用者輸入:\n",
    "### 　　pin碼\n",
    "### 　　檔案資料夾位置"
   ]
  },
  {
   "cell_type": "code",
   "execution_count": 1,
   "metadata": {
    "scrolled": true
   },
   "outputs": [
    {
     "ename": "KeyboardInterrupt",
     "evalue": "",
     "output_type": "error",
     "traceback": [
      "\u001b[1;31m---------------------------------------------------------------------------\u001b[0m",
      "\u001b[1;31mKeyboardInterrupt\u001b[0m                         Traceback (most recent call last)",
      "\u001b[1;32m<ipython-input-1-670018123f52>\u001b[0m in \u001b[0;36m<module>\u001b[1;34m()\u001b[0m\n\u001b[0;32m     24\u001b[0m     \u001b[1;31m#webdriver檔要在 https://sites.google.com/a/chromium.org/chromedriver/downloads下載\u001b[0m\u001b[1;33m\u001b[0m\u001b[1;33m\u001b[0m\u001b[0m\n\u001b[0;32m     25\u001b[0m     \u001b[1;31m#套件網址:https://chrome.google.com/webstore/detail/smartpki-%E5%A4%9A%E6%86%91%E8%AD%89%E5%AE%89%E6%8E%A7%E6%A8%A1%E7%B5%84%E6%93%B4%E5%85%85%E5%A5%97%E4%BB%B6/jhffgcfmcckgmioipfnmbannkpncfipo?utm_source=chrome-ntp-icon\u001b[0m\u001b[1;33m\u001b[0m\u001b[1;33m\u001b[0m\u001b[0m\n\u001b[1;32m---> 26\u001b[1;33m     \u001b[0mdriver\u001b[0m \u001b[1;33m=\u001b[0m\u001b[0mwebdriver\u001b[0m\u001b[1;33m.\u001b[0m\u001b[0mChrome\u001b[0m\u001b[1;33m(\u001b[0m\u001b[0mexecutable_path\u001b[0m\u001b[1;33m=\u001b[0m\u001b[1;34mr'D:\\Driver\\chromedriver.exe'\u001b[0m\u001b[1;33m,\u001b[0m \u001b[0mchrome_options\u001b[0m\u001b[1;33m=\u001b[0m\u001b[0mchrome_options\u001b[0m\u001b[1;33m)\u001b[0m\u001b[1;33m\u001b[0m\u001b[0m\n\u001b[0m\u001b[0;32m     27\u001b[0m     \u001b[0mdriver\u001b[0m\u001b[1;33m.\u001b[0m\u001b[0mget\u001b[0m\u001b[1;33m(\u001b[0m\u001b[1;34m\"https://edesk.bli.gov.tw/cpa/\"\u001b[0m\u001b[1;33m)\u001b[0m\u001b[1;33m\u001b[0m\u001b[0m\n\u001b[0;32m     28\u001b[0m \u001b[1;33m\u001b[0m\u001b[0m\n",
      "\u001b[1;32mD:\\anaconda\\lib\\site-packages\\selenium\\webdriver\\chrome\\webdriver.py\u001b[0m in \u001b[0;36m__init__\u001b[1;34m(self, executable_path, port, chrome_options, service_args, desired_capabilities, service_log_path)\u001b[0m\n\u001b[0;32m     67\u001b[0m                 command_executor=ChromeRemoteConnection(\n\u001b[0;32m     68\u001b[0m                     remote_server_addr=self.service.service_url),\n\u001b[1;32m---> 69\u001b[1;33m                 desired_capabilities=desired_capabilities)\n\u001b[0m\u001b[0;32m     70\u001b[0m         \u001b[1;32mexcept\u001b[0m \u001b[0mException\u001b[0m\u001b[1;33m:\u001b[0m\u001b[1;33m\u001b[0m\u001b[0m\n\u001b[0;32m     71\u001b[0m             \u001b[0mself\u001b[0m\u001b[1;33m.\u001b[0m\u001b[0mquit\u001b[0m\u001b[1;33m(\u001b[0m\u001b[1;33m)\u001b[0m\u001b[1;33m\u001b[0m\u001b[0m\n",
      "\u001b[1;32mD:\\anaconda\\lib\\site-packages\\selenium\\webdriver\\remote\\webdriver.py\u001b[0m in \u001b[0;36m__init__\u001b[1;34m(self, command_executor, desired_capabilities, browser_profile, proxy, keep_alive, file_detector)\u001b[0m\n\u001b[0;32m    149\u001b[0m             warnings.warn(\"Please use FirefoxOptions to set browser profile\",\n\u001b[0;32m    150\u001b[0m                           DeprecationWarning)\n\u001b[1;32m--> 151\u001b[1;33m         \u001b[0mself\u001b[0m\u001b[1;33m.\u001b[0m\u001b[0mstart_session\u001b[0m\u001b[1;33m(\u001b[0m\u001b[0mdesired_capabilities\u001b[0m\u001b[1;33m,\u001b[0m \u001b[0mbrowser_profile\u001b[0m\u001b[1;33m)\u001b[0m\u001b[1;33m\u001b[0m\u001b[0m\n\u001b[0m\u001b[0;32m    152\u001b[0m         \u001b[0mself\u001b[0m\u001b[1;33m.\u001b[0m\u001b[0m_switch_to\u001b[0m \u001b[1;33m=\u001b[0m \u001b[0mSwitchTo\u001b[0m\u001b[1;33m(\u001b[0m\u001b[0mself\u001b[0m\u001b[1;33m)\u001b[0m\u001b[1;33m\u001b[0m\u001b[0m\n\u001b[0;32m    153\u001b[0m         \u001b[0mself\u001b[0m\u001b[1;33m.\u001b[0m\u001b[0m_mobile\u001b[0m \u001b[1;33m=\u001b[0m \u001b[0mMobile\u001b[0m\u001b[1;33m(\u001b[0m\u001b[0mself\u001b[0m\u001b[1;33m)\u001b[0m\u001b[1;33m\u001b[0m\u001b[0m\n",
      "\u001b[1;32mD:\\anaconda\\lib\\site-packages\\selenium\\webdriver\\remote\\webdriver.py\u001b[0m in \u001b[0;36mstart_session\u001b[1;34m(self, capabilities, browser_profile)\u001b[0m\n\u001b[0;32m    238\u001b[0m         parameters = {\"capabilities\": w3c_caps,\n\u001b[0;32m    239\u001b[0m                       \"desiredCapabilities\": capabilities}\n\u001b[1;32m--> 240\u001b[1;33m         \u001b[0mresponse\u001b[0m \u001b[1;33m=\u001b[0m \u001b[0mself\u001b[0m\u001b[1;33m.\u001b[0m\u001b[0mexecute\u001b[0m\u001b[1;33m(\u001b[0m\u001b[0mCommand\u001b[0m\u001b[1;33m.\u001b[0m\u001b[0mNEW_SESSION\u001b[0m\u001b[1;33m,\u001b[0m \u001b[0mparameters\u001b[0m\u001b[1;33m)\u001b[0m\u001b[1;33m\u001b[0m\u001b[0m\n\u001b[0m\u001b[0;32m    241\u001b[0m         \u001b[1;32mif\u001b[0m \u001b[1;34m'sessionId'\u001b[0m \u001b[1;32mnot\u001b[0m \u001b[1;32min\u001b[0m \u001b[0mresponse\u001b[0m\u001b[1;33m:\u001b[0m\u001b[1;33m\u001b[0m\u001b[0m\n\u001b[0;32m    242\u001b[0m             \u001b[0mresponse\u001b[0m \u001b[1;33m=\u001b[0m \u001b[0mresponse\u001b[0m\u001b[1;33m[\u001b[0m\u001b[1;34m'value'\u001b[0m\u001b[1;33m]\u001b[0m\u001b[1;33m\u001b[0m\u001b[0m\n",
      "\u001b[1;32mD:\\anaconda\\lib\\site-packages\\selenium\\webdriver\\remote\\webdriver.py\u001b[0m in \u001b[0;36mexecute\u001b[1;34m(self, driver_command, params)\u001b[0m\n\u001b[0;32m    304\u001b[0m \u001b[1;33m\u001b[0m\u001b[0m\n\u001b[0;32m    305\u001b[0m         \u001b[0mparams\u001b[0m \u001b[1;33m=\u001b[0m \u001b[0mself\u001b[0m\u001b[1;33m.\u001b[0m\u001b[0m_wrap_value\u001b[0m\u001b[1;33m(\u001b[0m\u001b[0mparams\u001b[0m\u001b[1;33m)\u001b[0m\u001b[1;33m\u001b[0m\u001b[0m\n\u001b[1;32m--> 306\u001b[1;33m         \u001b[0mresponse\u001b[0m \u001b[1;33m=\u001b[0m \u001b[0mself\u001b[0m\u001b[1;33m.\u001b[0m\u001b[0mcommand_executor\u001b[0m\u001b[1;33m.\u001b[0m\u001b[0mexecute\u001b[0m\u001b[1;33m(\u001b[0m\u001b[0mdriver_command\u001b[0m\u001b[1;33m,\u001b[0m \u001b[0mparams\u001b[0m\u001b[1;33m)\u001b[0m\u001b[1;33m\u001b[0m\u001b[0m\n\u001b[0m\u001b[0;32m    307\u001b[0m         \u001b[1;32mif\u001b[0m \u001b[0mresponse\u001b[0m\u001b[1;33m:\u001b[0m\u001b[1;33m\u001b[0m\u001b[0m\n\u001b[0;32m    308\u001b[0m             \u001b[0mself\u001b[0m\u001b[1;33m.\u001b[0m\u001b[0merror_handler\u001b[0m\u001b[1;33m.\u001b[0m\u001b[0mcheck_response\u001b[0m\u001b[1;33m(\u001b[0m\u001b[0mresponse\u001b[0m\u001b[1;33m)\u001b[0m\u001b[1;33m\u001b[0m\u001b[0m\n",
      "\u001b[1;32mD:\\anaconda\\lib\\site-packages\\selenium\\webdriver\\remote\\remote_connection.py\u001b[0m in \u001b[0;36mexecute\u001b[1;34m(self, command, params)\u001b[0m\n\u001b[0;32m    458\u001b[0m         \u001b[0mpath\u001b[0m \u001b[1;33m=\u001b[0m \u001b[0mstring\u001b[0m\u001b[1;33m.\u001b[0m\u001b[0mTemplate\u001b[0m\u001b[1;33m(\u001b[0m\u001b[0mcommand_info\u001b[0m\u001b[1;33m[\u001b[0m\u001b[1;36m1\u001b[0m\u001b[1;33m]\u001b[0m\u001b[1;33m)\u001b[0m\u001b[1;33m.\u001b[0m\u001b[0msubstitute\u001b[0m\u001b[1;33m(\u001b[0m\u001b[0mparams\u001b[0m\u001b[1;33m)\u001b[0m\u001b[1;33m\u001b[0m\u001b[0m\n\u001b[0;32m    459\u001b[0m         \u001b[0murl\u001b[0m \u001b[1;33m=\u001b[0m \u001b[1;34m'%s%s'\u001b[0m \u001b[1;33m%\u001b[0m \u001b[1;33m(\u001b[0m\u001b[0mself\u001b[0m\u001b[1;33m.\u001b[0m\u001b[0m_url\u001b[0m\u001b[1;33m,\u001b[0m \u001b[0mpath\u001b[0m\u001b[1;33m)\u001b[0m\u001b[1;33m\u001b[0m\u001b[0m\n\u001b[1;32m--> 460\u001b[1;33m         \u001b[1;32mreturn\u001b[0m \u001b[0mself\u001b[0m\u001b[1;33m.\u001b[0m\u001b[0m_request\u001b[0m\u001b[1;33m(\u001b[0m\u001b[0mcommand_info\u001b[0m\u001b[1;33m[\u001b[0m\u001b[1;36m0\u001b[0m\u001b[1;33m]\u001b[0m\u001b[1;33m,\u001b[0m \u001b[0murl\u001b[0m\u001b[1;33m,\u001b[0m \u001b[0mbody\u001b[0m\u001b[1;33m=\u001b[0m\u001b[0mdata\u001b[0m\u001b[1;33m)\u001b[0m\u001b[1;33m\u001b[0m\u001b[0m\n\u001b[0m\u001b[0;32m    461\u001b[0m \u001b[1;33m\u001b[0m\u001b[0m\n\u001b[0;32m    462\u001b[0m     \u001b[1;32mdef\u001b[0m \u001b[0m_request\u001b[0m\u001b[1;33m(\u001b[0m\u001b[0mself\u001b[0m\u001b[1;33m,\u001b[0m \u001b[0mmethod\u001b[0m\u001b[1;33m,\u001b[0m \u001b[0murl\u001b[0m\u001b[1;33m,\u001b[0m \u001b[0mbody\u001b[0m\u001b[1;33m=\u001b[0m\u001b[1;32mNone\u001b[0m\u001b[1;33m)\u001b[0m\u001b[1;33m:\u001b[0m\u001b[1;33m\u001b[0m\u001b[0m\n",
      "\u001b[1;32mD:\\anaconda\\lib\\site-packages\\selenium\\webdriver\\remote\\remote_connection.py\u001b[0m in \u001b[0;36m_request\u001b[1;34m(self, method, url, body)\u001b[0m\n\u001b[0;32m    482\u001b[0m             \u001b[1;32mtry\u001b[0m\u001b[1;33m:\u001b[0m\u001b[1;33m\u001b[0m\u001b[0m\n\u001b[0;32m    483\u001b[0m                 \u001b[0mself\u001b[0m\u001b[1;33m.\u001b[0m\u001b[0m_conn\u001b[0m\u001b[1;33m.\u001b[0m\u001b[0mrequest\u001b[0m\u001b[1;33m(\u001b[0m\u001b[0mmethod\u001b[0m\u001b[1;33m,\u001b[0m \u001b[0mparsed_url\u001b[0m\u001b[1;33m.\u001b[0m\u001b[0mpath\u001b[0m\u001b[1;33m,\u001b[0m \u001b[0mbody\u001b[0m\u001b[1;33m,\u001b[0m \u001b[0mheaders\u001b[0m\u001b[1;33m)\u001b[0m\u001b[1;33m\u001b[0m\u001b[0m\n\u001b[1;32m--> 484\u001b[1;33m                 \u001b[0mresp\u001b[0m \u001b[1;33m=\u001b[0m \u001b[0mself\u001b[0m\u001b[1;33m.\u001b[0m\u001b[0m_conn\u001b[0m\u001b[1;33m.\u001b[0m\u001b[0mgetresponse\u001b[0m\u001b[1;33m(\u001b[0m\u001b[1;33m)\u001b[0m\u001b[1;33m\u001b[0m\u001b[0m\n\u001b[0m\u001b[0;32m    485\u001b[0m             \u001b[1;32mexcept\u001b[0m \u001b[1;33m(\u001b[0m\u001b[0mhttplib\u001b[0m\u001b[1;33m.\u001b[0m\u001b[0mHTTPException\u001b[0m\u001b[1;33m,\u001b[0m \u001b[0msocket\u001b[0m\u001b[1;33m.\u001b[0m\u001b[0merror\u001b[0m\u001b[1;33m)\u001b[0m\u001b[1;33m:\u001b[0m\u001b[1;33m\u001b[0m\u001b[0m\n\u001b[0;32m    486\u001b[0m                 \u001b[0mself\u001b[0m\u001b[1;33m.\u001b[0m\u001b[0m_conn\u001b[0m\u001b[1;33m.\u001b[0m\u001b[0mclose\u001b[0m\u001b[1;33m(\u001b[0m\u001b[1;33m)\u001b[0m\u001b[1;33m\u001b[0m\u001b[0m\n",
      "\u001b[1;32mD:\\anaconda\\lib\\http\\client.py\u001b[0m in \u001b[0;36mgetresponse\u001b[1;34m(self)\u001b[0m\n\u001b[0;32m   1329\u001b[0m         \u001b[1;32mtry\u001b[0m\u001b[1;33m:\u001b[0m\u001b[1;33m\u001b[0m\u001b[0m\n\u001b[0;32m   1330\u001b[0m             \u001b[1;32mtry\u001b[0m\u001b[1;33m:\u001b[0m\u001b[1;33m\u001b[0m\u001b[0m\n\u001b[1;32m-> 1331\u001b[1;33m                 \u001b[0mresponse\u001b[0m\u001b[1;33m.\u001b[0m\u001b[0mbegin\u001b[0m\u001b[1;33m(\u001b[0m\u001b[1;33m)\u001b[0m\u001b[1;33m\u001b[0m\u001b[0m\n\u001b[0m\u001b[0;32m   1332\u001b[0m             \u001b[1;32mexcept\u001b[0m \u001b[0mConnectionError\u001b[0m\u001b[1;33m:\u001b[0m\u001b[1;33m\u001b[0m\u001b[0m\n\u001b[0;32m   1333\u001b[0m                 \u001b[0mself\u001b[0m\u001b[1;33m.\u001b[0m\u001b[0mclose\u001b[0m\u001b[1;33m(\u001b[0m\u001b[1;33m)\u001b[0m\u001b[1;33m\u001b[0m\u001b[0m\n",
      "\u001b[1;32mD:\\anaconda\\lib\\http\\client.py\u001b[0m in \u001b[0;36mbegin\u001b[1;34m(self)\u001b[0m\n\u001b[0;32m    295\u001b[0m         \u001b[1;31m# read until we get a non-100 response\u001b[0m\u001b[1;33m\u001b[0m\u001b[1;33m\u001b[0m\u001b[0m\n\u001b[0;32m    296\u001b[0m         \u001b[1;32mwhile\u001b[0m \u001b[1;32mTrue\u001b[0m\u001b[1;33m:\u001b[0m\u001b[1;33m\u001b[0m\u001b[0m\n\u001b[1;32m--> 297\u001b[1;33m             \u001b[0mversion\u001b[0m\u001b[1;33m,\u001b[0m \u001b[0mstatus\u001b[0m\u001b[1;33m,\u001b[0m \u001b[0mreason\u001b[0m \u001b[1;33m=\u001b[0m \u001b[0mself\u001b[0m\u001b[1;33m.\u001b[0m\u001b[0m_read_status\u001b[0m\u001b[1;33m(\u001b[0m\u001b[1;33m)\u001b[0m\u001b[1;33m\u001b[0m\u001b[0m\n\u001b[0m\u001b[0;32m    298\u001b[0m             \u001b[1;32mif\u001b[0m \u001b[0mstatus\u001b[0m \u001b[1;33m!=\u001b[0m \u001b[0mCONTINUE\u001b[0m\u001b[1;33m:\u001b[0m\u001b[1;33m\u001b[0m\u001b[0m\n\u001b[0;32m    299\u001b[0m                 \u001b[1;32mbreak\u001b[0m\u001b[1;33m\u001b[0m\u001b[0m\n",
      "\u001b[1;32mD:\\anaconda\\lib\\http\\client.py\u001b[0m in \u001b[0;36m_read_status\u001b[1;34m(self)\u001b[0m\n\u001b[0;32m    256\u001b[0m \u001b[1;33m\u001b[0m\u001b[0m\n\u001b[0;32m    257\u001b[0m     \u001b[1;32mdef\u001b[0m \u001b[0m_read_status\u001b[0m\u001b[1;33m(\u001b[0m\u001b[0mself\u001b[0m\u001b[1;33m)\u001b[0m\u001b[1;33m:\u001b[0m\u001b[1;33m\u001b[0m\u001b[0m\n\u001b[1;32m--> 258\u001b[1;33m         \u001b[0mline\u001b[0m \u001b[1;33m=\u001b[0m \u001b[0mstr\u001b[0m\u001b[1;33m(\u001b[0m\u001b[0mself\u001b[0m\u001b[1;33m.\u001b[0m\u001b[0mfp\u001b[0m\u001b[1;33m.\u001b[0m\u001b[0mreadline\u001b[0m\u001b[1;33m(\u001b[0m\u001b[0m_MAXLINE\u001b[0m \u001b[1;33m+\u001b[0m \u001b[1;36m1\u001b[0m\u001b[1;33m)\u001b[0m\u001b[1;33m,\u001b[0m \u001b[1;34m\"iso-8859-1\"\u001b[0m\u001b[1;33m)\u001b[0m\u001b[1;33m\u001b[0m\u001b[0m\n\u001b[0m\u001b[0;32m    259\u001b[0m         \u001b[1;32mif\u001b[0m \u001b[0mlen\u001b[0m\u001b[1;33m(\u001b[0m\u001b[0mline\u001b[0m\u001b[1;33m)\u001b[0m \u001b[1;33m>\u001b[0m \u001b[0m_MAXLINE\u001b[0m\u001b[1;33m:\u001b[0m\u001b[1;33m\u001b[0m\u001b[0m\n\u001b[0;32m    260\u001b[0m             \u001b[1;32mraise\u001b[0m \u001b[0mLineTooLong\u001b[0m\u001b[1;33m(\u001b[0m\u001b[1;34m\"status line\"\u001b[0m\u001b[1;33m)\u001b[0m\u001b[1;33m\u001b[0m\u001b[0m\n",
      "\u001b[1;32mD:\\anaconda\\lib\\socket.py\u001b[0m in \u001b[0;36mreadinto\u001b[1;34m(self, b)\u001b[0m\n\u001b[0;32m    584\u001b[0m         \u001b[1;32mwhile\u001b[0m \u001b[1;32mTrue\u001b[0m\u001b[1;33m:\u001b[0m\u001b[1;33m\u001b[0m\u001b[0m\n\u001b[0;32m    585\u001b[0m             \u001b[1;32mtry\u001b[0m\u001b[1;33m:\u001b[0m\u001b[1;33m\u001b[0m\u001b[0m\n\u001b[1;32m--> 586\u001b[1;33m                 \u001b[1;32mreturn\u001b[0m \u001b[0mself\u001b[0m\u001b[1;33m.\u001b[0m\u001b[0m_sock\u001b[0m\u001b[1;33m.\u001b[0m\u001b[0mrecv_into\u001b[0m\u001b[1;33m(\u001b[0m\u001b[0mb\u001b[0m\u001b[1;33m)\u001b[0m\u001b[1;33m\u001b[0m\u001b[0m\n\u001b[0m\u001b[0;32m    587\u001b[0m             \u001b[1;32mexcept\u001b[0m \u001b[0mtimeout\u001b[0m\u001b[1;33m:\u001b[0m\u001b[1;33m\u001b[0m\u001b[0m\n\u001b[0;32m    588\u001b[0m                 \u001b[0mself\u001b[0m\u001b[1;33m.\u001b[0m\u001b[0m_timeout_occurred\u001b[0m \u001b[1;33m=\u001b[0m \u001b[1;32mTrue\u001b[0m\u001b[1;33m\u001b[0m\u001b[0m\n",
      "\u001b[1;31mKeyboardInterrupt\u001b[0m: "
     ]
    }
   ],
   "source": [
    "from selenium import webdriver\n",
    "from selenium.webdriver.common.keys import Keys\n",
    "from selenium.webdriver.common.by import By\n",
    "from selenium.webdriver.support.ui import Select\n",
    "from selenium.webdriver.chrome.options import Options\n",
    "from selenium.webdriver.common.action_chains import ActionChains#滑鼠套件\n",
    "from selenium.webdriver.support.ui import WebDriverWait#直到True 不斷等待\n",
    "from selenium.webdriver.support import expected_conditions as EC #判斷某物件存在，直到時間結束\n",
    "import os\n",
    "import time \n",
    "import xl2dict\n",
    "import smtplib\n",
    "from email.message import EmailMessage\n",
    "\n",
    "\n",
    "\n",
    "try:\n",
    "\n",
    "    pinNum=\"780311\" #需改成人工輸入\n",
    "\n",
    "    chrome_options = Options()\n",
    "    #crx檔要用http://crxextractor.com/ 將套件網址key入，即可產生套件檔 \n",
    "    chrome_options.add_extension(r'D:\\xxx\\extension_0_0_1_3.crx')\n",
    "    #webdriver檔要在 https://sites.google.com/a/chromium.org/chromedriver/downloads下載\n",
    "    #套件網址:https://chrome.google.com/webstore/detail/smartpki-%E5%A4%9A%E6%86%91%E8%AD%89%E5%AE%89%E6%8E%A7%E6%A8%A1%E7%B5%84%E6%93%B4%E5%85%85%E5%A5%97%E4%BB%B6/jhffgcfmcckgmioipfnmbannkpncfipo?utm_source=chrome-ntp-icon\n",
    "    driver =webdriver.Chrome(executable_path=r'D:\\Driver\\chromedriver.exe', chrome_options=chrome_options)\n",
    "    driver.get(\"https://edesk.bli.gov.tw/cpa/\")\n",
    "    \n",
    "    #找到excel資料存放的位置，將所有檔案的路徑變成list\n",
    "    dataDir=r\"D:\\保險申報檔案\" #需改成人工輸入\n",
    "    #遍歷資料夾內所有檔案  os.walk(路徑位置) 會產生該位置所有的 (路徑,資料夾名稱,檔案名稱)   (包含資料夾內的資料夾內的資料夾....的檔案)\n",
    "    # for i in os.walk(dataDir):\n",
    "    #     for j in i[2]:\n",
    "    #         print(i[0]+j)\n",
    "    #可縮寫成這樣     \n",
    "    pathList=[i[0]+\"\\\\\"+j for i in os.walk(dataDir) for j in i[2]]\n",
    "    myxlobject= xl2dict.XlToDict()\n",
    "    for excelFilePath in pathList:\n",
    "        #得到excel內容成dict\n",
    "        dataDict=myxlobject.convert_sheet_to_dict(file_path=excelFilePath, sheet=\"First Sheet\")[0]\n",
    "        #進入勞保局\n",
    "        WebDriverWait(driver,20).until(EC.element_to_be_clickable((By.CLASS_NAME,'b-close')))\n",
    "    #     alert=driver.switch_to_alert()\n",
    "    #     alert.dismiss()\n",
    "        #關閉阻擋頁\n",
    "        driver.find_element_by_class_name(\"b-close\").click()\n",
    "        #輸入pin碼(自然人憑證)\n",
    "        pinInput=driver.find_element_by_name(\"pin\")\n",
    "        pinInput.clear()\n",
    "        pinInput.send_keys(pinNum)#憑證pin碼\n",
    "        #輸入保險證號\n",
    "        unoInput=driver.find_element_by_name(\"uno\")\n",
    "        unoInput.clear()\n",
    "        unoInput.send_keys(dataDict['勞工保險證號']+dataDict['勞工保險證號檢查碼'])#\"單位保險證號\"\n",
    "        time.sleep(0.5)\n",
    "        #確認進入\n",
    "        driver.find_element_by_name('Submit').click()\n",
    "        WebDriverWait(driver,20).until(EC.element_to_be_clickable((By.CLASS_NAME,'b-close')))\n",
    "        passOrNot=True\n",
    "        driver.find_element_by_class_name(\"b-close\").click()\n",
    "        time.sleep(0.4)\n",
    "        driver.find_element_by_id(\"mi0,0\").click()\n",
    "        time.sleep(0.1)\n",
    "        driver.find_element_by_id(\"mi0,5\").click()\n",
    "        time.sleep(0.2)\n",
    "\n",
    "        if dataDict['異動別']==\"4\":\n",
    "            driver.find_element_by_id(\"mi0,6\").click()#加保\n",
    "        elif dataDict['異動別']==\"2\":\n",
    "            driver.find_element_by_id(\"mi0,7\").click()#退保\n",
    "        elif dataDict['異動別']==\"3\":\n",
    "            driver.find_element_by_id(\"mi0,8\").click()#調保\n",
    "        time.sleep(0.8)\n",
    "\n",
    "        if \"健保投保單位代碼\" in dataDict:\n",
    "            driver.find_elements_by_xpath('//*[@id=\"type\"]')[0].click()#三合一\n",
    "        else:\n",
    "            driver.find_elements_by_xpath('//*[@id=\"type\"]')[1].click()#二合一\n",
    "\n",
    "        driver.find_element_by_id(\"uploadFile\").send_keys(excelFilePath)\n",
    "        time.sleep(0.5)\n",
    "        driver.find_element_by_xpath('//*[@id=\"pin\"]').send_keys(pinNum)\n",
    "    #     time.sleep(3)\n",
    "        # driver.find_element_by_id(\"btnSaveB\").click()\n",
    "        driver.find_element_by_id(\"mi0,53\").click()\n",
    "        time.sleep(1)\n",
    "\n",
    "    driver.close()\n",
    "except Exception as e:\n",
    "    msg = EmailMessage()\n",
    "    msg.set_content(\"error: \"+str(e))\n",
    "    msg['Subject'] = 'surcure'\n",
    "    msg['From'] = \"lisa\"\n",
    "    msg['To'] = 'andy.yuan@wowprime.com'\n",
    "    with smtplib.SMTP('192.168.2.1',25) as s:\n",
    "        s.send_message(msg)"
   ]
  },
  {
   "cell_type": "code",
   "execution_count": 107,
   "metadata": {
    "collapsed": true
   },
   "outputs": [],
   "source": [
    "\n",
    "#     {'個人自願提繳率(%)': '',\n",
    "#  '勞基法特殊身分別': '',\n",
    "#  '勞工保險證號': '05952202',\n",
    "#  '勞工保險證號檢查碼': 'F',\n",
    "#  '勞退提繳日期(與勞保加保日期不同時才需輸入)': '',\n",
    "#  '已領取社會保險給付種類': '',\n",
    "#  '提繳身分別': '1',\n",
    "#  '月實際工資': '11100',\n",
    "#  '格式別': '1',\n",
    "#  '特殊身分別': '1',\n",
    "#  '異動別': '4',\n",
    "#  '被保險人出生日期': '0880224',\n",
    "#  '被保險人外籍': '',\n",
    "#  '被保險人姓名': '吳名豪',\n",
    "#  '被保險人性別': '',\n",
    "#  '被保險人身份證號': 'A130528512',\n",
    "#  '雇主提繳率(%)': '6'}"
   ]
  },
  {
   "cell_type": "markdown",
   "metadata": {},
   "source": [
    "# 最新進度"
   ]
  },
  {
   "cell_type": "code",
   "execution_count": 2,
   "metadata": {
    "scrolled": true
   },
   "outputs": [],
   "source": [
    "from tkinter import Tk,StringVar,Label,Entry,Button\n",
    "from tkinter.filedialog import askdirectory\n",
    "from selenium import webdriver\n",
    "from selenium.webdriver.common.keys import Keys\n",
    "from selenium.webdriver.common.by import By\n",
    "from selenium.webdriver.support.ui import Select\n",
    "from selenium.webdriver.chrome.options import Options\n",
    "from selenium.webdriver.support.ui import WebDriverWait#直到找到 不斷等待\n",
    "from selenium.webdriver.support import expected_conditions as EC #判斷某物件存在，直到時間結束\n",
    "import os\n",
    "import time \n",
    "import xl2dict\n",
    "import smtplib\n",
    "from email.message import EmailMessage\n",
    "\n",
    "\n",
    "\n",
    "uNoList=set()\n",
    "report=[]\n",
    "changDict={\"4\":\"加保\",\"2\":\"退保\",\"3\":\"調保\"}\n",
    "web='https://edesk.bli.gov.tw/cpa/'\n",
    "\n",
    "def doAddPopChangeAssure():\n",
    "    try:\n",
    "        pinNum=e2.get() #pin號碼\n",
    "        chrome_options = Options()\n",
    "        #crx檔要用http://crxextractor.com/ 將套件網址key入，即可產生套件檔 \n",
    "        chrome_options.add_extension(r'D:\\xxx\\extension_0_0_1_3.crx')\n",
    "        \n",
    "        chrome_options.add_experimental_option(\"prefs\", {\n",
    "          \"download.default_directory\": e3.get(),\n",
    "          \"download.prompt_for_download\": False,\n",
    "          \"download.directory_upgrade\": True,\n",
    "          \"safebrowsing.enabled\": True\n",
    "        })\n",
    "        \n",
    "        #webdriver檔要在 https://sites.google.com/a/chromium.org/chromedriver/downloads下載\n",
    "        #套件網址:https://chrome.google.com/webstore/detail/smartpki-%E5%A4%9A%E6%86%91%E8%AD%89%E5%AE%89%E6%8E%A7%E6%A8%A1%E7%B5%84%E6%93%B4%E5%85%85%E5%A5%97%E4%BB%B6/jhffgcfmcckgmioipfnmbannkpncfipo?utm_source=chrome-ntp-icon\n",
    "        driver =webdriver.Chrome(executable_path=r'D:\\Driver\\chromedriver.exe', chrome_options=chrome_options)\n",
    "        driver.get(web)\n",
    "        \n",
    "        dataDir=e1.get() #需改成人工輸入\n",
    "        #遍歷資料夾內所有檔案  os.walk(路徑位置) 會產生該位置所有的 (路徑,資料夾名稱,檔案名稱)   (包含資料夾內的資料夾內的資料夾....的檔案)\n",
    "        # for i in os.walk(dataDir):\n",
    "        #     for j in i[2]:\n",
    "        #         print(i[0]+j)\n",
    "        #可縮寫成這樣     \n",
    "        pathList=[i[0]+\"/\"+j for i in os.walk(dataDir) for j in i[2]]\n",
    "        myxlobject= xl2dict.XlToDict()\n",
    "        for excelFilePath in pathList:\n",
    "            #得到excel內容成dict\n",
    "            dataDict=myxlobject.convert_sheet_to_dict(file_path=excelFilePath, sheet=\"First Sheet\")[0]\n",
    "            #進入勞保局\n",
    "            WebDriverWait(driver,20).until(EC.element_to_be_clickable((By.CLASS_NAME,'b-close')))\n",
    "            time.sleep(0.2)\n",
    "        #     alert=driver.switch_to_alert()\n",
    "        #     alert.dismiss()\n",
    "            #關閉阻擋頁\n",
    "            driver.find_element_by_class_name(\"b-close\").click()\n",
    "\n",
    "            #輸入pin碼(自然人憑證)\n",
    "            pinInput=driver.find_element_by_name(\"pin\")\n",
    "            pinInput.clear()\n",
    "            pinInput.send_keys(pinNum)#憑證pin碼\n",
    "            #輸入保險證號\n",
    "            unoInput=driver.find_element_by_name(\"uno\")\n",
    "            unoInput.clear()\n",
    "            unoNumber=dataDict['勞工保險證號']+dataDict['勞工保險證號檢查碼']#\"單位保險證號\"\n",
    "            unoInput.send_keys(unoNumber)\n",
    "            uNoList.add(unoNumber)\n",
    "            time.sleep(0.2)\n",
    "            #確認進入\n",
    "            driver.find_element_by_name('Submit').click()\n",
    "            time.sleep(2)\n",
    "            try:\n",
    "                WebDriverWait(driver,12).until(EC.element_to_be_clickable((By.CLASS_NAME,'b-close')))\n",
    "                time.sleep(0.2)\n",
    "                driver.find_element_by_class_name(\"b-close\").click()\n",
    "            except:\n",
    "                report.append(\"登入失敗-異動別:{}\\t證號:{}\\t位置{}\".\n",
    "                                  format(changDict[dataDict['異動別']],\n",
    "                                         dataDict['勞工保險證號']+dataDict['勞工保險證號檢查碼'],\n",
    "                                         excelFilePath))\n",
    "                time.sleep(0.2)\n",
    "                alert=driver.switch_to_alert()\n",
    "                ###############################################需增加判斷密碼錯誤、權限錯誤問題\n",
    "                \n",
    "                ###############################################\n",
    "                alert.accept()\n",
    "                continue\n",
    "            \n",
    "            WebDriverWait(driver,20).until(EC.element_to_be_clickable((By.ID,'mi0,0')))\n",
    "            time.sleep(0.5)\n",
    "            driver.find_element_by_id(\"mi0,0\").click()\n",
    "            time.sleep(0.2)\n",
    "            driver.find_element_by_id(\"mi0,5\").click()\n",
    "            WebDriverWait(driver,20).until(EC.element_to_be_clickable((By.ID,'mi0,7')))\n",
    "            time.sleep(0.2)\n",
    "\n",
    "            if dataDict['異動別']==\"4\":\n",
    "                driver.find_element_by_id(\"mi0,6\").click()#加保\n",
    "            elif dataDict['異動別']==\"2\":\n",
    "                driver.find_element_by_id(\"mi0,7\").click()#退保\n",
    "            elif dataDict['異動別']==\"3\":\n",
    "                driver.find_element_by_id(\"mi0,8\").click()#調保\n",
    "            time.sleep(1)\n",
    "\n",
    "            if \"健保投保單位代碼\" in dataDict:\n",
    "                driver.find_elements_by_xpath('//*[@id=\"type\"]')[0].click()#三合一\n",
    "            else:\n",
    "                driver.find_elements_by_xpath('//*[@id=\"type\"]')[1].click()#二合一\n",
    "\n",
    "            driver.find_element_by_id(\"uploadFile\").send_keys(excelFilePath)\n",
    "            time.sleep(0.5)\n",
    "            driver.find_element_by_xpath('//*[@id=\"pin\"]').send_keys(pinNum)\n",
    "            time.sleep(0.2)\n",
    "            driver.find_element_by_id(\"btnSaveB\").click()\n",
    "            #睡到成功為止或過了15秒\n",
    "            def success():\n",
    "                try:\n",
    "                    return '資料新增成功' in driver.find_element_by_xpath('//*[@id=\"ifon\"]/span[2]/font').text\n",
    "                except:\n",
    "                    return False\n",
    "            nsec=0\n",
    "            while (not success()):\n",
    "                try:\n",
    "                    if '失敗' in driver.find_element_by_xpath('//*[@id=\"ifon\"]/span[2]/font').text:\n",
    "                        report.append(\"上傳失敗-異動別:{}\\t證號:{}\\t位置{}\".\n",
    "                                      format(changDict[dataDict['異動別']],\n",
    "                                             dataDict['勞工保險證號']+dataDict['勞工保險證號檢查碼'],\n",
    "                                             excelFilePath))\n",
    "                        driver.find_element_by_id(\"mi0,53\").click()\n",
    "                        continue\n",
    "                except:\n",
    "                    pass\n",
    "                nsec+=0.5\n",
    "                if nsec>15:\n",
    "                    break\n",
    "                time.sleep(0.5)\n",
    "#                 print(1)\n",
    "            if success():\n",
    "                report.append(\"資料上傳成功-異動別:{}\\t證號:{}\\t位置{}\".\n",
    "                                  format(changDict[dataDict['異動別']],\n",
    "                                         dataDict['勞工保險證號']+dataDict['勞工保險證號檢查碼'],\n",
    "                                         excelFilePath))\n",
    "                driver.find_element_by_id(\"mi0,53\").click()\n",
    "            time.sleep(1)\n",
    "        \n",
    "        \n",
    "        #########################################################下載區!!!\n",
    "        for uNo in uNoList:\n",
    "            try:\n",
    "                WebDriverWait(driver,20).until(EC.element_to_be_clickable((By.CLASS_NAME,'b-close')))\n",
    "                time.sleep(0.2)\n",
    "                #關閉阻擋頁\n",
    "                driver.find_element_by_class_name(\"b-close\").click()\n",
    "                #輸入pin碼(自然人憑證)\n",
    "                time.sleep(0.1)\n",
    "                pinInput=driver.find_element_by_name(\"pin\")\n",
    "                pinInput.clear()\n",
    "                pinInput.send_keys(pinNum)#憑證pin碼\n",
    "                #輸入保險證號\n",
    "                time.sleep(0.1)\n",
    "                unoInput=driver.find_element_by_name(\"uno\")\n",
    "                unoInput.clear()\n",
    "                unoInput.send_keys(uNo)#\"單位保險證號\"\n",
    "                time.sleep(0.2)\n",
    "                #確認進入\n",
    "                driver.find_element_by_name('Submit').click()\n",
    "                time.sleep(2)\n",
    "                try:\n",
    "                    WebDriverWait(driver,12).until(EC.element_to_be_clickable((By.CLASS_NAME,'b-close')))\n",
    "                    time.sleep(0.2)\n",
    "                    driver.find_element_by_class_name(\"b-close\").click()\n",
    "                except:\n",
    "                    report.append(\"下載時登入失敗-證號:{}\".format(uNo))\n",
    "                    time.sleep(0.2)\n",
    "                    alert=driver.switch_to_alert()\n",
    "                    alert.accept()\n",
    "                    continue\n",
    "                WebDriverWait(driver,20).until(EC.element_to_be_clickable((By.ID,'mi0,0')))\n",
    "                time.sleep(0.5)\n",
    "                driver.find_element_by_id(\"mi0,0\").click()\n",
    "                time.sleep(0.1)\n",
    "                driver.find_element_by_id(\"mi0,10\").click()\n",
    "                time.sleep(0.2)\n",
    "                driver.find_element_by_xpath('//*[@id=\"main\"]/form/fieldset/table/tbody/tr[7]/td[2]/input[2]').click()\n",
    "                time.sleep(0.1)\n",
    "                driver.find_element_by_name('btnQuery').click()\n",
    "                time.sleep(0.5)\n",
    "\n",
    "                downloadList=['https://edesk.bli.gov.tw/cpa/caApplyDataQueryDispatch.do?method=batchPayList',\n",
    "                'https://edesk.bli.gov.tw/cpa/caApplyDataQueryDispatch.do?method=batchStopList',\n",
    "                'https://edesk.bli.gov.tw/cpa/caApplyDataQueryDispatch.do?method=batchAdjList']\n",
    "\n",
    "                for website in downloadList:\n",
    "                    driver.get(website)\n",
    "                    time.sleep(0.1)\n",
    "                    WebDriverWait(driver,12).until(EC.element_to_be_clickable((By.NAME,'btnBackQueryForm')))\n",
    "                    time.sleep(0.2)\n",
    "                    if len(driver.find_elements_by_name('meslamIdOfPrint'))>0:\n",
    "                        for point in driver.find_elements_by_name('meslamIdOfPrint'):\n",
    "                            point.click()\n",
    "                            time.sleep(0.1)\n",
    "                            driver.find_element_by_id('btnPrint2').click()\n",
    "                            time.sleep(0.5)\n",
    "                        time.sleep(0.5)\n",
    "                        driver.back()\n",
    "                        time.sleep(0.4)\n",
    "                report.append(\"下載成功-證號:{}\".format(uNo))\n",
    "                driver.find_element_by_id(\"mi0,53\").click()\n",
    "                time.sleep(1)\n",
    "            except Exception as e:\n",
    "                time.sleep(0.5)\n",
    "                report.append(\"下載失敗-證號:{}\".format(uNo))\n",
    "                driver.find_element_by_id(\"mi0,53\").click()\n",
    "                time.sleep(1)\n",
    "        #########################################################更名區\n",
    "        path=e3.get()\n",
    "        for file_ in os.listdir(path):\n",
    "            name=[]\n",
    "            book = xlrd.open_workbook(os.path.join(path, file_))\n",
    "            sheet=book.sheet_by_index(0)\n",
    "\n",
    "            #日期\n",
    "            dateCell=sheet.cell_value(rowx=3,colx=8) or sheet.cell_value(rowx=3,colx=4)\n",
    "            if len(dateCell.split(\"／\"))<3:\n",
    "                name.append(dateCell.split(\"：\")[1].split(\" \")[0])\n",
    "            else:\n",
    "                name.append(dateCell.split(\"／\")[2] or dateCell.split(\"／\")[1].split(\"：\")[1].split(\" \")[0])\n",
    "\n",
    "            ##事業部\n",
    "            if \"公司\" in sheet.cell_value(rowx=4,colx=0):\n",
    "                name.append(sheet.cell_value(rowx=4,colx=0).split(\"公司\")[1] or sheet.cell_value(rowx=3,colx=0).split(\"：\")[1])\n",
    "            else:\n",
    "                name.append(sheet.cell_value(rowx=3,colx=0).split(\"公司\")[1] or sheet.cell_value(rowx=2,colx=0).split(\"：\")[1])\n",
    "\n",
    "\n",
    "            ##加退調保\n",
    "            if '加' in sheet.cell_value(rowx=0,colx=0):\n",
    "                name.append(\"加\")\n",
    "            elif '退' in sheet.cell_value(rowx=0,colx=0):\n",
    "                name.append(\"退\")\n",
    "            elif '調' in sheet.cell_value(rowx=0,colx=0):\n",
    "                name.append(\"調\")\n",
    "\n",
    "            ##二、三合一\n",
    "            if '健' in sheet.cell_value(rowx=1,colx=0):\n",
    "                name.append(\"3\")\n",
    "            else:\n",
    "                name.append(\"2\")\n",
    "\n",
    "            try:\n",
    "                os.rename(os.path.join(path,file_),os.path.join(path,\"_\".join(name)+\".xls\"))\n",
    "            except:\n",
    "                print(os.path.join(path, file_)+\"\\t已有變更檔名的檔案\")\n",
    "        \n",
    "        #########################################################\n",
    "        \n",
    "        driver.quit()\n",
    "        print(\"\\n\".join(report))\n",
    "        msg = EmailMessage()\n",
    "        msg.set_content(web+\"\\n\"+\"\\n\".join(report))\n",
    "        msg['Subject'] = 'ReportForSuccessAndFail'\n",
    "        msg['From'] = \"AutoAddInsurance\"\n",
    "        msg['To'] = 'andy.yuan@wowprime.com'\n",
    "        with smtplib.SMTP('192.168.2.1',25) as s:\n",
    "            s.send_message(msg)\n",
    "\n",
    "\n",
    "\n",
    "    except Exception as e:\n",
    "        print('出錯了RRRRRRRRRRRR'+str(e))\n",
    "        msg = EmailMessage()\n",
    "        msg.set_content(\"error: \"+str(e)+'\\nPlease verify website connection \\n if no problem in website find andy.yuan@wowprime.com')\n",
    "        msg['Subject'] = 'ReportError'\n",
    "        msg['From'] = \"AutoAddInsurance\"\n",
    "        msg['To'] = 'andy.yuan@wowprime.com'\n",
    "        with smtplib.SMTP('192.168.2.1',25) as s:\n",
    "            s.send_message(msg)\n",
    "\n",
    "def selectPath():\n",
    "    path_ = askdirectory()\n",
    "    path.set(path_)\n",
    "def selectPath2():\n",
    "    path2_ = askdirectory()\n",
    "    path2.set(path2_)\n",
    "root = Tk()\n",
    "path = StringVar()\n",
    "Label(root,text = \"讀取資料夾:\").grid(row = 0, column = 0)\n",
    "e1=Entry(root, textvariable = path)\n",
    "e1.grid(row = 0, column = 1)\n",
    "Button(root, text = \"讀取資料夾\", command = selectPath).grid(row = 0, column = 2)\n",
    "\n",
    "path2 = StringVar()\n",
    "Label(root,text = \"存放資料夾:\").grid(row = 1, column = 0)\n",
    "e3=Entry(root, textvariable = path2)\n",
    "e3.grid(row = 1, column = 1)\n",
    "Button(root, text = \"存放資料夾\", command = selectPath2).grid(row = 1, column = 2)\n",
    "\n",
    "Label(root, text=\"自然人憑證PIN碼\").grid(row=2, column = 0)\n",
    "e2 = Entry(root)\n",
    "e2.grid(row=2, column=1)\n",
    "# e1.insert(10,\"Miller\") #輸入預設值\n",
    "Button(root, text='加退調保開始', command=doAddPopChangeAssure).grid(row=3, column=1, pady=4)\n",
    "root.mainloop()\n",
    "    \n",
    "    \n",
    "\n"
   ]
  },
  {
   "cell_type": "markdown",
   "metadata": {
    "collapsed": true
   },
   "source": [
    "# 一步一步測試區"
   ]
  },
  {
   "cell_type": "code",
   "execution_count": 11,
   "metadata": {
    "scrolled": true
   },
   "outputs": [
    {
     "name": "stdout",
     "output_type": "stream",
     "text": [
      "05952202F3\n",
      "3\n"
     ]
    }
   ],
   "source": [
    "from selenium import webdriver\n",
    "from selenium.webdriver.common.keys import Keys\n",
    "from selenium.webdriver.common.by import By\n",
    "from selenium.webdriver.support.ui import Select\n",
    "from selenium.webdriver.chrome.options import Options\n",
    "from selenium.webdriver.common.action_chains import ActionChains#滑鼠套件\n",
    "from selenium.webdriver.support.ui import WebDriverWait#直到True 不斷等待\n",
    "from selenium.webdriver.support import expected_conditions as EC #判斷某物件存在，直到時間結束\n",
    "import os\n",
    "import time \n",
    "import xl2dict\n",
    "import smtplib\n",
    "from email.message import EmailMessage\n",
    "import xlrd\n",
    "\n",
    "pinNum=\"780311\" #需改成人工輸入\n",
    "\n",
    "chrome_options = Options()\n",
    "#crx檔要用http://crxextractor.com/ 將套件網址key入，即可產生套件檔 \n",
    "chrome_options.add_extension(r'D:\\xxx\\extension_0_0_1_3.crx')\n",
    "#webdriver檔要在 https://sites.google.com/a/chromium.org/chromedriver/downloads下載\n",
    "#套件網址:https://chrome.google.com/webstore/detail/smartpki-%E5%A4%9A%E6%86%91%E8%AD%89%E5%AE%89%E6%8E%A7%E6%A8%A1%E7%B5%84%E6%93%B4%E5%85%85%E5%A5%97%E4%BB%B6/jhffgcfmcckgmioipfnmbannkpncfipo?utm_source=chrome-ntp-icon\n",
    "driver =webdriver.Chrome(executable_path=r'D:\\Driver\\chromedriver.exe', chrome_options=chrome_options)\n",
    "driver.get(\"https://edesk.bli.gov.tw/cpa/\")\n",
    "\n",
    "#找到excel資料存放的位置，將所有檔案的路徑變成list\n",
    "dataDir=r\"D:\\保險申報檔案\" #需改成人工輸入\n",
    "#遍歷資料夾內所有檔案  os.walk(路徑位置) 會產生該位置所有的 (路徑,資料夾名稱,檔案名稱)   (包含資料夾內的資料夾內的資料夾....的檔案)\n",
    "# for i in os.walk(dataDir):\n",
    "#     for j in i[2]:\n",
    "#         print(i[0]+j)\n",
    "#可縮寫成這樣     \n",
    "pathList=[i[0]+\"\\\\\"+j for i in os.walk(dataDir) for j in i[2]]\n",
    "myxlobject= xl2dict.XlToDict()\n",
    "excelFilePath=pathList[0]\n",
    "#得到excel內容成dict\n",
    "dataDict=myxlobject.convert_sheet_to_dict(file_path=excelFilePath, sheet=\"First Sheet\")[0]\n",
    "#進入勞保局\n",
    "WebDriverWait(driver,20).until(EC.element_to_be_clickable((By.CLASS_NAME,'b-close')))\n",
    "#     alert=driver.switch_to_alert()\n",
    "#     alert.dismiss()\n",
    "#關閉阻擋頁\n",
    "driver.find_element_by_class_name(\"b-close\").click()\n",
    "#輸入pin碼(自然人憑證)\n",
    "pinInput=driver.find_element_by_name(\"pin\")\n",
    "pinInput.clear()\n",
    "pinInput.send_keys(pinNum)#憑證pin碼\n",
    "#輸入保險證號\n",
    "unoInput=driver.find_element_by_name(\"uno\")\n",
    "unoInput.clear()\n",
    "\n",
    "print(dataDict['勞工保險證號']+dataDict['勞工保險證號檢查碼']+dataDict['異動別'])\n",
    "unoInput.send_keys(dataDict['勞工保險證號']+dataDict['勞工保險證號檢查碼'])#\"單位保險證號\"\n",
    "uNoList=set()\n",
    "uNoList.add(dataDict['勞工保險證號']+dataDict['勞工保險證號檢查碼'])\n",
    "time.sleep(0.5)\n",
    "#確認進入\n",
    "driver.find_element_by_name('Submit').click()\n",
    "WebDriverWait(driver,20).until(EC.element_to_be_clickable((By.CLASS_NAME,'b-close')))\n",
    "passOrNot=True\n",
    "driver.find_element_by_class_name(\"b-close\").click()\n",
    "time.sleep(0.4)\n",
    "driver.find_element_by_id(\"mi0,0\").click()\n",
    "time.sleep(0.1)\n",
    "driver.find_element_by_id(\"mi0,5\").click()\n",
    "time.sleep(0.2)\n",
    "\n",
    "print(dataDict['異動別'])\n",
    "if dataDict['異動別']==\"4\":\n",
    "    driver.find_element_by_id(\"mi0,6\").click()#加保\n",
    "elif dataDict['異動別']==\"2\":\n",
    "    driver.find_element_by_id(\"mi0,7\").click()#退保\n",
    "elif dataDict['異動別']==\"3\":\n",
    "    driver.find_element_by_id(\"mi0,8\").click()#調保\n",
    "time.sleep(0.8)\n",
    "\n",
    "if \"健保投保單位代碼\" in dataDict:\n",
    "    driver.find_elements_by_xpath('//*[@id=\"type\"]')[0].click()#三合一\n",
    "else:\n",
    "    driver.find_elements_by_xpath('//*[@id=\"type\"]')[1].click()#二合一\n",
    "\n",
    "driver.find_element_by_id(\"uploadFile\").send_keys(excelFilePath)\n",
    "time.sleep(0.5)\n",
    "driver.find_element_by_xpath('//*[@id=\"pin\"]').send_keys(pinNum)\n",
    "#     time.sleep(3)\n",
    "driver.find_element_by_id(\"btnSaveB\").click()\n",
    "\n",
    "def success():\n",
    "    try:\n",
    "        return '資料新增成功' in driver.find_element_by_xpath('//*[@id=\"ifon\"]/span[2]/font').text\n",
    "    except:\n",
    "        return False\n",
    "while not success():\n",
    "    time.sleep(0.5)\n"
   ]
  },
  {
   "cell_type": "code",
   "execution_count": 59,
   "metadata": {},
   "outputs": [
    {
     "ename": "NameError",
     "evalue": "name 'driver' is not defined",
     "output_type": "error",
     "traceback": [
      "\u001b[1;31m---------------------------------------------------------------------------\u001b[0m",
      "\u001b[1;31mNameError\u001b[0m                                 Traceback (most recent call last)",
      "\u001b[1;32m<ipython-input-59-5b8ac0b72bc1>\u001b[0m in \u001b[0;36m<module>\u001b[1;34m()\u001b[0m\n\u001b[0;32m      3\u001b[0m \u001b[1;33m\u001b[0m\u001b[0m\n\u001b[0;32m      4\u001b[0m \u001b[1;32mfor\u001b[0m \u001b[0muNo\u001b[0m \u001b[1;32min\u001b[0m \u001b[0muNoList\u001b[0m\u001b[1;33m:\u001b[0m\u001b[1;33m\u001b[0m\u001b[0m\n\u001b[1;32m----> 5\u001b[1;33m     \u001b[0mWebDriverWait\u001b[0m\u001b[1;33m(\u001b[0m\u001b[0mdriver\u001b[0m\u001b[1;33m,\u001b[0m\u001b[1;36m20\u001b[0m\u001b[1;33m)\u001b[0m\u001b[1;33m.\u001b[0m\u001b[0muntil\u001b[0m\u001b[1;33m(\u001b[0m\u001b[0mEC\u001b[0m\u001b[1;33m.\u001b[0m\u001b[0melement_to_be_clickable\u001b[0m\u001b[1;33m(\u001b[0m\u001b[1;33m(\u001b[0m\u001b[0mBy\u001b[0m\u001b[1;33m.\u001b[0m\u001b[0mCLASS_NAME\u001b[0m\u001b[1;33m,\u001b[0m\u001b[1;34m'b-close'\u001b[0m\u001b[1;33m)\u001b[0m\u001b[1;33m)\u001b[0m\u001b[1;33m)\u001b[0m\u001b[1;33m\u001b[0m\u001b[0m\n\u001b[0m\u001b[0;32m      6\u001b[0m     \u001b[0mtime\u001b[0m\u001b[1;33m.\u001b[0m\u001b[0msleep\u001b[0m\u001b[1;33m(\u001b[0m\u001b[1;36m0.2\u001b[0m\u001b[1;33m)\u001b[0m\u001b[1;33m\u001b[0m\u001b[0m\n\u001b[0;32m      7\u001b[0m     \u001b[1;31m#關閉阻擋頁\u001b[0m\u001b[1;33m\u001b[0m\u001b[1;33m\u001b[0m\u001b[0m\n",
      "\u001b[1;31mNameError\u001b[0m: name 'driver' is not defined"
     ]
    }
   ],
   "source": [
    "uNoList=set()\n",
    "uNoList.update(['05952202F','05952199X'])\n",
    "\n",
    "for uNo in uNoList:\n",
    "    WebDriverWait(driver,20).until(EC.element_to_be_clickable((By.CLASS_NAME,'b-close')))\n",
    "    time.sleep(0.2)\n",
    "    #關閉阻擋頁\n",
    "    driver.find_element_by_class_name(\"b-close\").click()\n",
    "    #輸入pin碼(自然人憑證)\n",
    "    time.sleep(0.1)\n",
    "    pinInput=driver.find_element_by_name(\"pin\")\n",
    "    pinInput.clear()\n",
    "    pinInput.send_keys(pinNum)#憑證pin碼\n",
    "    #輸入保險證號\n",
    "    time.sleep(0.1)\n",
    "    unoInput=driver.find_element_by_name(\"uno\")\n",
    "    unoInput.clear()\n",
    "    unoInput.send_keys(uNo)#\"單位保險證號\"\n",
    "    time.sleep(0.2)\n",
    "    #確認進入\n",
    "    driver.find_element_by_name('Submit').click()\n",
    "    time.sleep(2)\n",
    "    try:\n",
    "        WebDriverWait(driver,12).until(EC.element_to_be_clickable((By.CLASS_NAME,'b-close')))\n",
    "        time.sleep(0.2)\n",
    "        driver.find_element_by_class_name(\"b-close\").click()\n",
    "    except:\n",
    "        report.append(\"下載資料登入失敗-證號:{}\".format(uNo,))\n",
    "        time.sleep(0.2)\n",
    "        alert=driver.switch_to_alert()\n",
    "        alert.accept()\n",
    "        continue\n",
    "    time.sleep(0.3)\n",
    "    driver.find_element_by_id(\"mi0,0\").click()\n",
    "    time.sleep(0.2)\n",
    "    driver.find_element_by_id(\"mi0,10\").click()\n",
    "    time.sleep(0.2)\n",
    "    driver.find_element_by_xpath('//*[@id=\"main\"]/form/fieldset/table/tbody/tr[7]/td[2]/input[2]').click()\n",
    "    time.sleep(0.1)\n",
    "    driver.find_element_by_name('btnQuery').click()\n",
    "    time.sleep(0.5)\n",
    "\n",
    "    downloadList=['https://edesk.bli.gov.tw/cpa/caApplyDataQueryDispatch.do?method=batchPayList',\n",
    "    'https://edesk.bli.gov.tw/cpa/caApplyDataQueryDispatch.do?method=batchStopList',\n",
    "    'https://edesk.bli.gov.tw/cpa/caApplyDataQueryDispatch.do?method=batchAdjList']\n",
    "\n",
    "    for website in downloadList:\n",
    "        driver.get(website)\n",
    "        time.sleep(0.5)\n",
    "        if len(driver.find_elements_by_name('meslamIdOfPrint'))>0:\n",
    "            for point in driver.find_elements_by_name('meslamIdOfPrint'):\n",
    "                point.click()\n",
    "                time.sleep(0.1)\n",
    "                driver.find_element_by_id('btnPrint2').click()\n",
    "                time.sleep(0.5)\n",
    "            time.sleep(0.5)\n",
    "            driver.back()\n",
    "            time.sleep(0.4)\n",
    "    driver.find_element_by_id(\"mi0,53\").click()\n",
    "    time.sleep(1)"
   ]
  },
  {
   "cell_type": "code",
   "execution_count": 62,
   "metadata": {
    "collapsed": true
   },
   "outputs": [],
   "source": [
    "import xlrd\n",
    "book = xlrd.open_workbook(r'D:\\保險申報檔案\\存放區\\sample\\CaApplyBatchData_1070208.xls')\n",
    "sheel_1 = book.sheet_by_index(0)"
   ]
  },
  {
   "cell_type": "code",
   "execution_count": 63,
   "metadata": {},
   "outputs": [
    {
     "data": {
      "text/plain": [
       "'吳名豪'"
      ]
     },
     "execution_count": 63,
     "metadata": {},
     "output_type": "execute_result"
    }
   ],
   "source": [
    "book.sheet_by_name(\"本人\").cell_value(rowx=6,colx=3)"
   ]
  },
  {
   "cell_type": "code",
   "execution_count": 19,
   "metadata": {},
   "outputs": [
    {
     "name": "stdout",
     "output_type": "stream",
     "text": [
      "Worksheet name(s):  本人\n"
     ]
    }
   ],
   "source": [
    "#頁面名稱\n",
    "print(\"Worksheet name(s): \",book.sheet_names()[0])"
   ]
  },
  {
   "cell_type": "code",
   "execution_count": 20,
   "metadata": {},
   "outputs": [
    {
     "name": "stdout",
     "output_type": "stream",
     "text": [
      "book.nsheets 1\n"
     ]
    }
   ],
   "source": [
    "#有幾頁\n",
    "print('book.nsheets',book.nsheets)"
   ]
  },
  {
   "cell_type": "code",
   "execution_count": 21,
   "metadata": {},
   "outputs": [
    {
     "name": "stdout",
     "output_type": "stream",
     "text": [
      "sheel_1.name: 本人 sheel_1.nrows: 8 sheel_1.ncols: 12\n"
     ]
    }
   ],
   "source": [
    "#使用了幾行幾列\n",
    "print('sheel_1.name:',sheel_1.name,'sheel_1.nrows:',sheel_1.nrows,'sheel_1.ncols:',sheel_1.ncols)"
   ]
  },
  {
   "cell_type": "code",
   "execution_count": 24,
   "metadata": {},
   "outputs": [
    {
     "name": "stdout",
     "output_type": "stream",
     "text": [
      "A1: 居留證/護照號碼\n"
     ]
    }
   ],
   "source": [
    "#查表格內容 rowx,colx由0開始\n",
    "print(sheel_1.cell_value(rowx=6,colx=3))"
   ]
  },
  {
   "cell_type": "code",
   "execution_count": null,
   "metadata": {
    "collapsed": true
   },
   "outputs": [],
   "source": [
    "workbook = xlwt.Workbook()\n",
    "sheet = workbook.add_sheet('test')\n",
    "\n",
    "for index, value in enumerate(data):\n",
    "    sheet.write(0, index, value)\n",
    "\n",
    "workbook.save('output.xls')\n",
    "\n",
    "\n"
   ]
  },
  {
   "cell_type": "code",
   "execution_count": 8,
   "metadata": {},
   "outputs": [
    {
     "name": "stdout",
     "output_type": "stream",
     "text": [
      "D:\\保險申報檔案\\存放區\\sample\\CaApplyBatchData_1070208 (3).xls\t已有變更檔名的檔案\n",
      "D:\\保險申報檔案\\存放區\\sample\\CaApplyBatchData_1070208 (6).xls\t已有變更檔名的檔案\n",
      "D:\\保險申報檔案\\存放區\\sample\\CaApplyBatchData_1070208 (7).xls\t已有變更檔名的檔案\n",
      "D:\\保險申報檔案\\存放區\\sample\\CaApplyBatchData_1070208 (8).xls\t已有變更檔名的檔案\n",
      "D:\\保險申報檔案\\存放區\\sample\\CaApplyBatchData_1070208 (9).xls\t已有變更檔名的檔案\n",
      "D:\\保險申報檔案\\存放區\\sample\\CaApplyBatchData_1070208.xls\t已有變更檔名的檔案\n"
     ]
    }
   ],
   "source": [
    "import xlrd\n",
    "path=r\"D:\\保險申報檔案\\存放區\\sample\"\n",
    "for file_ in os.listdir(path):\n",
    "    name=[]\n",
    "    book = xlrd.open_workbook(os.path.join(path, file_))\n",
    "    sheet=book.sheet_by_index(0)\n",
    "    \n",
    "    #日期\n",
    "    dateCell=sheet.cell_value(rowx=3,colx=8) or sheet.cell_value(rowx=3,colx=4)\n",
    "    if len(dateCell.split(\"／\"))<3:\n",
    "        name.append(dateCell.split(\"：\")[1].split(\" \")[0])\n",
    "    else:\n",
    "        name.append(dateCell.split(\"／\")[2] or dateCell.split(\"／\")[1].split(\"：\")[1].split(\" \")[0])\n",
    "\n",
    "    ##事業部\n",
    "    if \"公司\" in sheet.cell_value(rowx=4,colx=0):\n",
    "        name.append(sheet.cell_value(rowx=4,colx=0).split(\"公司\")[1] or sheet.cell_value(rowx=3,colx=0).split(\"：\")[1])\n",
    "    else:\n",
    "        name.append(sheet.cell_value(rowx=3,colx=0).split(\"公司\")[1] or sheet.cell_value(rowx=2,colx=0).split(\"：\")[1])\n",
    "    \n",
    "    \n",
    "    ##加退調保\n",
    "    if '加' in sheet.cell_value(rowx=0,colx=0):\n",
    "        name.append(\"加\")\n",
    "    elif '退' in sheet.cell_value(rowx=0,colx=0):\n",
    "        name.append(\"退\")\n",
    "    elif '調' in sheet.cell_value(rowx=0,colx=0):\n",
    "        name.append(\"調\")\n",
    "        \n",
    "    ##二、三合一\n",
    "    if '健' in sheet.cell_value(rowx=1,colx=0):\n",
    "        name.append(\"3\")\n",
    "    else:\n",
    "        name.append(\"2\")\n",
    "    \n",
    "    try:\n",
    "        os.rename(os.path.join(path,file_),os.path.join(path,\"_\".join(name)+\".xls\"))\n",
    "    except:\n",
    "        print(os.path.join(path, file_)+\"\\t已有變更檔名的檔案\")"
   ]
  },
  {
   "cell_type": "code",
   "execution_count": 49,
   "metadata": {
    "collapsed": true
   },
   "outputs": [],
   "source": [
    "sheetttt=book.sheet_by_name(\"本人\")"
   ]
  },
  {
   "cell_type": "code",
   "execution_count": 77,
   "metadata": {},
   "outputs": [
    {
     "name": "stdout",
     "output_type": "stream",
     "text": [
      "xx\n",
      "aaa\n"
     ]
    }
   ],
   "source": [
    "x=[\"\",'aaa']\n",
    "for i in x:\n",
    "    print(i or \"xx\")"
   ]
  },
  {
   "cell_type": "code",
   "execution_count": null,
   "metadata": {
    "collapsed": true
   },
   "outputs": [],
   "source": [
    "os.rename(os.path.join(path,file_),os.path.join(path,\"_\".join(name)+\".xls\"))"
   ]
  },
  {
   "cell_type": "code",
   "execution_count": 87,
   "metadata": {},
   "outputs": [
    {
     "data": {
      "text/plain": [
       "['aaa']"
      ]
     },
     "execution_count": 87,
     "metadata": {},
     "output_type": "execute_result"
    }
   ],
   "source": [
    "\"aaa\".split(\"＼\")"
   ]
  },
  {
   "cell_type": "code",
   "execution_count": null,
   "metadata": {
    "collapsed": true
   },
   "outputs": [],
   "source": []
  }
 ],
 "metadata": {
  "kernelspec": {
   "display_name": "Python 3",
   "language": "python",
   "name": "python3"
  },
  "language_info": {
   "codemirror_mode": {
    "name": "ipython",
    "version": 3
   },
   "file_extension": ".py",
   "mimetype": "text/x-python",
   "name": "python",
   "nbconvert_exporter": "python",
   "pygments_lexer": "ipython3",
   "version": "3.6.3"
  }
 },
 "nbformat": 4,
 "nbformat_minor": 2
}
