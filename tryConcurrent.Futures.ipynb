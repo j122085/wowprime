{
 "cells": [
  {
   "cell_type": "code",
   "execution_count": null,
   "metadata": {
    "collapsed": true
   },
   "outputs": [],
   "source": [
    "import concurrent.futures\n",
    "import json\n",
    "import os\n",
    "import requests\n",
    "from bs4 import BeautifulSoup as bs\n",
    "import logging\n",
    "import time\n",
    "if not os.path.exists('./data'):\n",
    "    os.makedirs('./data')"
   ]
  },
  {
   "cell_type": "code",
   "execution_count": null,
   "metadata": {
    "collapsed": true
   },
   "outputs": [],
   "source": [
    "def getlink(page,linkset,):\n",
    "    res=requests.get(\"http://www.ipeen.com.tw/search/taiwan/000/1-100-0-0/?baragain=1&p=1&p=\"+str(page))\n",
    "    if res.status_code==200:\n",
    "        soup=bs(res.text,'lxml')\n",
    "        res.close()\n",
    "        dienlist=soup.select(\"article.serMain > div.result > section > article.serItem > div > h3\")#找尋店家資訊\n",
    "        dienlist=[dien for dien in dienlist  if not dien.select_one(\"span.status\")]#去除搬遷或關店狀態的店家\n",
    "        dienlist=[\"http://www.ipeen.com.tw\"+dien.select_one(\"a\")[\"href\"] for dien in dienlist \n",
    "                  if dien.select_one(\"a\")[\"data-action\"]!=\"ad_shop\"]#去除廣告店家，留下網址\n",
    "        linkset.update(dienlist)#將該頁的店list加入set中(順便去除重複)\n",
    "#         if i%10==0:#每十頁存一次\n",
    "#             print(len(linkset))\n",
    "#             websitedict={Website.split(\"-\",1)[1]:Website.split(\"-\",1)[0] for Website in linkset}\n",
    "#             with open(\"./data/linkset.json\",\"w\") as f:\n",
    "#                 json.dump(websitedict,f)\n",
    "    else:#沒連線成功也存\n",
    "        print(\"status_code=\"+str(res.status_code))\n",
    "        res.close()\n",
    "        print(len(linkset))\n",
    "#         websitedict={Website.split(\"-\",1)[1]:Website.split(\"-\",1)[0] for Website in linkset}\n",
    "#         with open(\"./data/linkset.json\",\"w\") as f:\n",
    "#             json.dump(websitedict,f)\n",
    "#     websitedict={Website.split(\"-\",1)[1]:Website.split(\"-\",1)[0] for Website in linkset}\n",
    "    return dienlist"
   ]
  },
  {
   "cell_type": "code",
   "execution_count": null,
   "metadata": {
    "collapsed": true
   },
   "outputs": [],
   "source": [
    "res=requests.get(\"http://www.ipeen.com.tw/search/taiwan/000/1-100-0-0/?baragain=1&p=1&p=1\")\n",
    "soup=bs(res.text,\"lxml\")\n",
    "res.close()\n",
    "page=int(soup.select(\"#search > article > hgroup > h2 > b\")[0].text)//15\n",
    "print(str(page)+\"pages\")\n",
    "\n",
    "WebsiteSet=set()\n",
    "start = time.time()\n",
    "i=0\n",
    "with concurrent.futures.ThreadPoolExecutor(max_workers=20) as executor:\n",
    "    jobInfo = [executor.submit(getlink, page, WebsiteSet,i) for page in range(1,page+1)]\n",
    "    for future in concurrent.futures.as_completed(jobInfo):\n",
    "        try:\n",
    "            data = future.result()\n",
    "            WebsiteSet.update(data)\n",
    "        except Exception as e:\n",
    "            print(e)\n",
    "            print(\"zzz\")\n",
    "            pass\n",
    "        \n",
    "end = time.time()  \n",
    "print(\"-----------------\")\n",
    "print(end-start)\n",
    "\n",
    "websitedict={Website.split(\"-\",1)[1]:Website.split(\"-\",1)[0] for Website in WebsiteSet}\n",
    "with open(\"./data/linkset.json\",\"w\") as f:\n",
    "    json.dump(websitedict,f)"
   ]
  },
  {
   "cell_type": "code",
   "execution_count": null,
   "metadata": {
    "collapsed": true
   },
   "outputs": [],
   "source": [
    "with open(\"./data/linkSet.json\") as f:\n",
    "    x=json.load(f)"
   ]
  },
  {
   "cell_type": "code",
   "execution_count": 3,
   "metadata": {},
   "outputs": [],
   "source": [
    "with open(\"./data/beginpage.txt\",\"w\") as f:\n",
    "    f.write(str(30))\n"
   ]
  },
  {
   "cell_type": "code",
   "execution_count": 10,
   "metadata": {
    "collapsed": true
   },
   "outputs": [],
   "source": [
    "with open(\"./data/beginpage.txt\") as f:\n",
    "    page=int(f.read())"
   ]
  },
  {
   "cell_type": "code",
   "execution_count": 11,
   "metadata": {},
   "outputs": [
    {
     "data": {
      "text/plain": [
       "30"
      ]
     },
     "execution_count": 11,
     "metadata": {},
     "output_type": "execute_result"
    }
   ],
   "source": [
    "page"
   ]
  },
  {
   "cell_type": "code",
   "execution_count": null,
   "metadata": {
    "collapsed": true
   },
   "outputs": [],
   "source": []
  }
 ],
 "metadata": {
  "kernelspec": {
   "display_name": "Python 3",
   "language": "python",
   "name": "python3"
  },
  "language_info": {
   "codemirror_mode": {
    "name": "ipython",
    "version": 3
   },
   "file_extension": ".py",
   "mimetype": "text/x-python",
   "name": "python",
   "nbconvert_exporter": "python",
   "pygments_lexer": "ipython3",
   "version": "3.6.3"
  }
 },
 "nbformat": 4,
 "nbformat_minor": 2
}
