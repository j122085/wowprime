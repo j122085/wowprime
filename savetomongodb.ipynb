{
 "cells": [
  {
   "cell_type": "markdown",
   "metadata": {
    "collapsed": true
   },
   "source": [
    "# 第一版存取"
   ]
  },
  {
   "cell_type": "code",
   "execution_count": 7,
   "metadata": {},
   "outputs": [
    {
     "data": {
      "text/plain": [
       "['wowprimeipeenAddCommentURL', 'wowprimeipeen']"
      ]
     },
     "execution_count": 7,
     "metadata": {},
     "output_type": "execute_result"
    }
   ],
   "source": [
    "import pymongo\n",
    "from pymongo import MongoClient\n",
    "import datetime\n",
    "import json\n",
    "import time\n",
    "from functools import reduce\n",
    "\n",
    "#連Mongodb\n",
    "client = MongoClient('172.20.26.39', 27017)\n",
    "#連DB名\n",
    "db=client['rawData']\n",
    "#秀DB內的collection list\n",
    "db.collection_names()"
   ]
  },
  {
   "cell_type": "code",
   "execution_count": null,
   "metadata": {},
   "outputs": [
    {
     "name": "stdout",
     "output_type": "stream",
     "text": [
      "讀取完畢\n"
     ]
    }
   ],
   "source": [
    "with open(\"./data/diendata.json\",\"r\") as d:\n",
    "    diendata=json.load(d)\n",
    "    print(\"讀取完畢\")\n",
    "    #做去重動作\n",
    "    diendata = reduce(f, [[], ] + diendata)\n",
    "    print(\"去重完畢\")\n",
    "    with open(\"./data/mongodiendata.json\",\"w\") as d:\n",
    "            json.dump(diendata,d)\n",
    "    print(\"另存完畢\")\n",
    "    #比數變多，則做儲存動作\n",
    "    if len(diendata)>len(list(collection.find({}))):\n",
    "        collection.drop()\n",
    "        collection.insert_many(diendata)\n",
    "        print(\"存資料庫完畢\")\n",
    "        print(\"目前有%s筆資料\"%len(list(collection.find({}))))"
   ]
  },
  {
   "cell_type": "code",
   "execution_count": null,
   "metadata": {
    "scrolled": true
   },
   "outputs": [
    {
     "name": "stdout",
     "output_type": "stream",
     "text": [
      "讀取完畢\n",
      "去重完畢\n",
      "另存完畢\n",
      "存資料庫完畢\n",
      "目前有159156筆資料\n"
     ]
    }
   ],
   "source": [
    "#選擇我們想要的collection\n",
    "collection = db.wowprimeipeen\n",
    "#list(dict)的去重公式\n",
    "f = lambda x,y:x if y in x else x + [y]\n",
    "\n",
    "#不斷重複動作\n",
    "while True:\n",
    "    #讀取資料\n",
    "    try:\n",
    "        with open(\"./data/diendata.json\",\"r\") as d:\n",
    "            diendata=json.load(d)\n",
    "            print(\"讀取完畢\")\n",
    "            #做去重動作\n",
    "            diendata = reduce(f, [[], ] + diendata)\n",
    "            print(\"去重完畢\")\n",
    "            with open(\"./data/mongodiendata.json\",\"w\") as d:\n",
    "                    json.dump(diendata,d)\n",
    "            print(\"另存完畢\")\n",
    "            #比數變多，則做儲存動作\n",
    "            if len(diendata)>len(list(collection.find({}))):\n",
    "                collection.drop()\n",
    "                collection.insert_many(diendata)\n",
    "                print(\"存資料庫完畢\")\n",
    "                print(\"目前有%s筆資料\"%len(list(collection.find({}))))\n",
    "                #將去重的資料再儲存於外部json檔\n",
    "                \n",
    "            #如果資料筆數不變，則停止繼續儲存的行為\n",
    "            else:\n",
    "                print(\"已存最大筆數\")\n",
    "                break\n",
    "    except Exception as e:\n",
    "        print(e)\n",
    "        time.sleep(3)\n",
    "        continue\n",
    "    time.sleep(900)"
   ]
  },
  {
   "cell_type": "markdown",
   "metadata": {},
   "source": [
    "# 用mongodb的資料，修復原始json檔"
   ]
  },
  {
   "cell_type": "code",
   "execution_count": 7,
   "metadata": {
    "scrolled": true
   },
   "outputs": [],
   "source": [
    "x=list(collection.find({}))\n",
    "[i.pop(\"_id\") for i in x]\n",
    "with open(\"./data/diendata.json\",\"w\") as d:\n",
    "    json.dump(x,d)"
   ]
  },
  {
   "cell_type": "code",
   "execution_count": 18,
   "metadata": {},
   "outputs": [
    {
     "data": {
      "text/plain": [
       "56176"
      ]
     },
     "execution_count": 18,
     "metadata": {},
     "output_type": "execute_result"
    }
   ],
   "source": [
    "x=list(collection.find({}))\n",
    "len(x)"
   ]
  },
  {
   "cell_type": "code",
   "execution_count": 17,
   "metadata": {},
   "outputs": [
    {
     "data": {
      "text/plain": [
       "59828"
      ]
     },
     "execution_count": 17,
     "metadata": {},
     "output_type": "execute_result"
    }
   ],
   "source": [
    "with open(\"./data/diendata.json\",\"r\") as d:\n",
    "    diendata=json.load(d)\n",
    "len(diendata)"
   ]
  },
  {
   "cell_type": "markdown",
   "metadata": {},
   "source": [
    "# 第二版存取(含CommentURL)"
   ]
  },
  {
   "cell_type": "code",
   "execution_count": 1,
   "metadata": {},
   "outputs": [
    {
     "data": {
      "text/plain": [
       "['wowprimeipeenAddCommentURL', 'wowprimeipeen']"
      ]
     },
     "execution_count": 1,
     "metadata": {},
     "output_type": "execute_result"
    }
   ],
   "source": [
    "import pymongo\n",
    "from pymongo import MongoClient\n",
    "import datetime\n",
    "import json\n",
    "import time\n",
    "from functools import reduce\n",
    "\n",
    "#連Mongodb\n",
    "client = MongoClient('172.20.26.39', 27017)\n",
    "#連DB名\n",
    "db=client['rawData']\n",
    "#秀DB內的collection list\n",
    "db.collection_names()\n"
   ]
  },
  {
   "cell_type": "code",
   "execution_count": 2,
   "metadata": {
    "collapsed": true
   },
   "outputs": [],
   "source": [
    "#選擇我們想要的collection(亦可直接新增)\n",
    "collection = db.wowprimeipeenAddCommentURL"
   ]
  },
  {
   "cell_type": "code",
   "execution_count": 3,
   "metadata": {},
   "outputs": [
    {
     "name": "stdout",
     "output_type": "stream",
     "text": [
      "讀取完畢\n",
      "去重完畢\n",
      "另存完畢\n",
      "已存最大筆數\n"
     ]
    }
   ],
   "source": [
    "\n",
    "#list(dict)的去重公式\n",
    "f = lambda x,y:x if y in x else x + [y]\n",
    "\n",
    "loadPath='./data/diendataAddCommentUrl.json'\n",
    "#不斷重複動作\n",
    "while True:\n",
    "    #讀取資料\n",
    "    try:\n",
    "        with open(loadPath,\"r\") as d:\n",
    "            diendata=json.load(d)\n",
    "            print(\"讀取完畢\")\n",
    "            #做去重動作\n",
    "            diendata = reduce(f, [[], ] + diendata)\n",
    "            print(\"去重完畢\")\n",
    "            with open(\"./data/mongodiendata2.json\",\"w\") as d:\n",
    "                    json.dump(diendata,d)\n",
    "            print(\"另存完畢\")\n",
    "            #比數變多，則做儲存動作\n",
    "            if len(diendata)>len(list(collection.find({}))):\n",
    "                collection.drop()\n",
    "                collection.insert_many(diendata)\n",
    "                print(\"存資料庫完畢\")\n",
    "                print(\"目前有%s筆資料\"%len(list(collection.find({}))))\n",
    "                #將去重的資料再儲存於外部json檔\n",
    "                \n",
    "            #如果資料筆數不變，則停止繼續儲存的行為\n",
    "            else:\n",
    "                print(\"已存最大筆數\")\n",
    "                break\n",
    "    except Exception as e:\n",
    "        print(e)\n",
    "        time.sleep(3)\n",
    "        continue\n",
    "    time.sleep(900)"
   ]
  },
  {
   "cell_type": "code",
   "execution_count": 6,
   "metadata": {
    "scrolled": true
   },
   "outputs": [
    {
     "data": {
      "text/plain": [
       "67"
      ]
     },
     "execution_count": 6,
     "metadata": {},
     "output_type": "execute_result"
    }
   ],
   "source": [
    "x=list(collection.find({}))\n",
    "# [i.pop(\"_id\") for i in x]\n",
    "len(x)"
   ]
  },
  {
   "cell_type": "code",
   "execution_count": null,
   "metadata": {
    "collapsed": true
   },
   "outputs": [],
   "source": []
  }
 ],
 "metadata": {
  "kernelspec": {
   "display_name": "Python 3",
   "language": "python",
   "name": "python3"
  },
  "language_info": {
   "codemirror_mode": {
    "name": "ipython",
    "version": 3
   },
   "file_extension": ".py",
   "mimetype": "text/x-python",
   "name": "python",
   "nbconvert_exporter": "python",
   "pygments_lexer": "ipython3",
   "version": "3.6.3"
  }
 },
 "nbformat": 4,
 "nbformat_minor": 2
}
