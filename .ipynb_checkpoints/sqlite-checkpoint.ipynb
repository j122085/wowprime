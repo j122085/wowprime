{
 "cells": [
  {
   "cell_type": "code",
   "execution_count": null,
   "metadata": {
    "collapsed": true
   },
   "outputs": [],
   "source": [
    "import pymongo\n",
    "client=pymongo.mongo_client.MongoClient(\"172.20.26.39\",27017)\n",
    "client.database_names()\n",
    "mdb=client.rawData\n",
    "mdb.collection_names()\n",
    "collection=client.rawData.wowprimeipeen\n",
    "ipeendata=list(collection.find({}))\n",
    "client.close()\n",
    "ipeendata=[dien for dien in ipeendata if dien['lat']!=0 and dien['status']==\"正常營業\" and dien['lat']>18 and dien['lat']<27 and dien['lng']<125 and dien['lng']>117]\n",
    "import re\n",
    "for dien in ipeendata:\n",
    "    try:\n",
    "        dien[\"bigadd\"]=re.findall(\"(..[市|縣])(\\w\\w?\\w?[區|市|鎮|鄉])\",\n",
    "                               dien[\"address\"])[0][0]\n",
    "    except:\n",
    "        dien['bigadd']=\"\"\n",
    "    try:\n",
    "        dien[\"smalladd\"]=re.findall(\"(..[市|縣])(\\w\\w?\\w?[區|市|鎮|鄉])\",\n",
    "                           dien[\"address\"])[0][1]\n",
    "    except:\n",
    "        dien[\"smalladd\"]=\"\"\n",
    "    del dien[\"_id\"]\n",
    "print(len(ipeendata))\n"
   ]
  },
  {
   "cell_type": "code",
   "execution_count": null,
   "metadata": {
    "collapsed": true
   },
   "outputs": [],
   "source": [
    "import sqlite3"
   ]
  },
  {
   "cell_type": "code",
   "execution_count": null,
   "metadata": {
    "collapsed": true
   },
   "outputs": [],
   "source": [
    "db = sqlite3.connect('D:/DRF/ipeen.sqlite3')"
   ]
  },
  {
   "cell_type": "code",
   "execution_count": null,
   "metadata": {
    "collapsed": true
   },
   "outputs": [],
   "source": [
    "cur.close()"
   ]
  },
  {
   "cell_type": "code",
   "execution_count": null,
   "metadata": {
    "collapsed": true
   },
   "outputs": [],
   "source": [
    "cur = db.cursor()"
   ]
  },
  {
   "cell_type": "code",
   "execution_count": null,
   "metadata": {
    "collapsed": true
   },
   "outputs": [],
   "source": [
    "#--------------------------------"
   ]
  },
  {
   "cell_type": "code",
   "execution_count": null,
   "metadata": {
    "collapsed": true
   },
   "outputs": [],
   "source": [
    "ipeendata[0]"
   ]
  },
  {
   "cell_type": "code",
   "execution_count": null,
   "metadata": {
    "collapsed": true
   },
   "outputs": [],
   "source": [
    "cur.execute(\"DROP TABLE `ipeen`\")"
   ]
  },
  {
   "cell_type": "code",
   "execution_count": null,
   "metadata": {
    "collapsed": true
   },
   "outputs": [],
   "source": [
    "cur.execute('''CREATE TABLE `ipeen` (\n",
    "    `id` TEXT NOT NULL UNIQUE,\n",
    "    `name` TEXT NOT NULL,\n",
    "    `address` TEXT,\n",
    "    `tele` TEXT,\n",
    "    `averagecost` TEXT,\n",
    "    `viewcount` INTEGER,\n",
    "    `Ncomment` INTEGER,\n",
    "    `bigstyle` TEXT,\n",
    "    `smallstyle` TEXT,\n",
    "    `bigadd` TEXT,\n",
    "    `smalladd` TEXT,\n",
    "    `lat` NUMERIC,\n",
    "    `lng` NUMERIC,\n",
    "    PRIMARY KEY(`id`)\n",
    ");''')"
   ]
  },
  {
   "cell_type": "code",
   "execution_count": null,
   "metadata": {
    "collapsed": true
   },
   "outputs": [],
   "source": [
    "for row in cur.execute(\"SELECT * from ipeen;\"):\n",
    "    print(row)"
   ]
  },
  {
   "cell_type": "code",
   "execution_count": null,
   "metadata": {
    "collapsed": true,
    "scrolled": true
   },
   "outputs": [],
   "source": [
    "n=0\n",
    "for data in ipeendata:\n",
    "   \n",
    "    if dien['lat']!=0 and dien['status']==\"正常營業\" and dien['lat']>18 and dien['lat']<27 and dien['lng']<125 and dien['lng']>117 and dien['bigstyle']!=\"\":\n",
    "        try:\n",
    "            cur.execute(\"INSERT INTO ipeen VALUES ('%s','%s','%s','%s','%s', '%s', '%s','%s', '%s', '%s', '%s', '%s', '%s');\"%(data['id'],\n",
    "                                                                                                         data['name'],\n",
    "                                                                                                         data['address'].replace(\"'\",\"\"),\n",
    "                                                                                                       data['tele'],\n",
    "                                                                                                       data['averagecost'],\n",
    "                                                                                                       data['viewcount'],\n",
    "                                                                                                       data['Ncomment'],\n",
    "                                                                                                       data['bigstyle'].replace(\"'\",\"\").replace(\"、\",\"\"),\n",
    "                                                                                                       data['smallstyle'].replace(\"'\",\"\").replace(\"、\",\"\"),\n",
    "                                                                                                       data['bigadd'],\n",
    "                                                                                                       data['smalladd'],\n",
    "                                                                                                        data['lat'],\n",
    "                                                                                                        data['lng']))\n",
    "            n+=1\n",
    "            print(n)\n",
    "        except:\n",
    "            pass\n",
    "\n"
   ]
  },
  {
   "cell_type": "code",
   "execution_count": null,
   "metadata": {
    "collapsed": true
   },
   "outputs": [],
   "source": [
    "data"
   ]
  },
  {
   "cell_type": "code",
   "execution_count": null,
   "metadata": {
    "collapsed": true
   },
   "outputs": [],
   "source": [
    "data['lng']"
   ]
  },
  {
   "cell_type": "code",
   "execution_count": null,
   "metadata": {
    "collapsed": true
   },
   "outputs": [],
   "source": [
    "db.commit()"
   ]
  },
  {
   "cell_type": "code",
   "execution_count": null,
   "metadata": {
    "collapsed": true
   },
   "outputs": [],
   "source": [
    "for row in cur.execute(\"SELECT * FROM ipeen where bigstyle='日式料理';\"):\n",
    "    print(row)"
   ]
  },
  {
   "cell_type": "code",
   "execution_count": null,
   "metadata": {
    "collapsed": true
   },
   "outputs": [],
   "source": [
    "db.close()"
   ]
  },
  {
   "cell_type": "code",
   "execution_count": null,
   "metadata": {
    "collapsed": true
   },
   "outputs": [],
   "source": []
  }
 ],
 "metadata": {
  "kernelspec": {
   "display_name": "Python 3",
   "language": "python",
   "name": "python3"
  },
  "language_info": {
   "codemirror_mode": {
    "name": "ipython",
    "version": 3
   },
   "file_extension": ".py",
   "mimetype": "text/x-python",
   "name": "python",
   "nbconvert_exporter": "python",
   "pygments_lexer": "ipython3",
   "version": "3.6.3"
  }
 },
 "nbformat": 4,
 "nbformat_minor": 2
}
