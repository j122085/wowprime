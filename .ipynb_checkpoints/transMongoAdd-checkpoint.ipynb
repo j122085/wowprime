{
 "cells": [
  {
   "cell_type": "code",
   "execution_count": 1,
   "metadata": {
    "collapsed": true
   },
   "outputs": [],
   "source": [
    "import pymongo"
   ]
  },
  {
   "cell_type": "code",
   "execution_count": 2,
   "metadata": {},
   "outputs": [
    {
     "data": {
      "text/plain": [
       "['admin', 'local', 'rawData']"
      ]
     },
     "execution_count": 2,
     "metadata": {},
     "output_type": "execute_result"
    }
   ],
   "source": [
    "client=pymongo.mongo_client.MongoClient(\"172.20.26.39\",27017)\n",
    "client.database_names()"
   ]
  },
  {
   "cell_type": "code",
   "execution_count": 4,
   "metadata": {},
   "outputs": [
    {
     "data": {
      "text/plain": [
       "['wowprimediendata',\n",
       " 'wowprimeipeenAddCommentURL',\n",
       " 'wowprimeipeen',\n",
       " 'HRdata104']"
      ]
     },
     "execution_count": 4,
     "metadata": {},
     "output_type": "execute_result"
    }
   ],
   "source": [
    "db=client.rawData\n",
    "db.collection_names()"
   ]
  },
  {
   "cell_type": "code",
   "execution_count": 7,
   "metadata": {
    "collapsed": true
   },
   "outputs": [],
   "source": [
    "collection=db.wowprimeipeen"
   ]
  },
  {
   "cell_type": "code",
   "execution_count": 8,
   "metadata": {},
   "outputs": [
    {
     "data": {
      "text/plain": [
       "{'Ncomment': 5,\n",
       " '_id': ObjectId('5a1f7de680b11017bc5810c6'),\n",
       " 'address': '台北市大安區信義路三段166巷2號',\n",
       " 'averagecost': 383,\n",
       " 'bigstyle': '燒烤類',\n",
       " 'collecount': 19,\n",
       " 'id': 1000010,\n",
       " 'ipeenscore': 45,\n",
       " 'lat': 25.03301900787,\n",
       " 'lng': 121.54191500375,\n",
       " 'name': '岩谷新鐵板料理Rock Valley(台北信義總店)',\n",
       " 'reviewdate': '2017/08/23',\n",
       " 'smallstyle': '鐵板燒',\n",
       " 'status': '正常營業',\n",
       " 'tele': '0227071968',\n",
       " 'viewcount': 12926}"
      ]
     },
     "execution_count": 8,
     "metadata": {},
     "output_type": "execute_result"
    }
   ],
   "source": [
    "list(collection.find({}))[1]"
   ]
  },
  {
   "cell_type": "code",
   "execution_count": 9,
   "metadata": {},
   "outputs": [
    {
     "ename": "NameError",
     "evalue": "name 're' is not defined",
     "output_type": "error",
     "traceback": [
      "\u001b[1;31m---------------------------------------------------------------------------\u001b[0m",
      "\u001b[1;31mNameError\u001b[0m                                 Traceback (most recent call last)",
      "\u001b[1;32m<ipython-input-9-ff1e416e9d7e>\u001b[0m in \u001b[0;36m<module>\u001b[1;34m()\u001b[0m\n\u001b[0;32m      1\u001b[0m \u001b[0mipeenData\u001b[0m\u001b[1;33m=\u001b[0m\u001b[0mlist\u001b[0m\u001b[1;33m(\u001b[0m\u001b[0mcollection\u001b[0m\u001b[1;33m.\u001b[0m\u001b[0mfind\u001b[0m\u001b[1;33m(\u001b[0m\u001b[1;33m{\u001b[0m\u001b[1;33m}\u001b[0m\u001b[1;33m)\u001b[0m\u001b[1;33m)\u001b[0m\u001b[1;33m\u001b[0m\u001b[0m\n\u001b[0;32m      2\u001b[0m \u001b[1;32mfor\u001b[0m \u001b[0mdien\u001b[0m \u001b[1;32min\u001b[0m \u001b[0mipeenData\u001b[0m\u001b[1;33m:\u001b[0m\u001b[1;33m\u001b[0m\u001b[0m\n\u001b[1;32m----> 3\u001b[1;33m     \u001b[0mdiendata\u001b[0m\u001b[1;33m[\u001b[0m\u001b[1;34m\"bigadd\"\u001b[0m\u001b[1;33m]\u001b[0m \u001b[1;33m=\u001b[0m \u001b[0mre\u001b[0m\u001b[1;33m.\u001b[0m\u001b[0mfindall\u001b[0m\u001b[1;33m(\u001b[0m\u001b[1;34m\"(..[市|縣])(\\w\\w?\\w?[區|市|鎮|鄉])\"\u001b[0m\u001b[1;33m,\u001b[0m\u001b[0mdiendata\u001b[0m\u001b[1;33m[\u001b[0m\u001b[1;34m\"address\"\u001b[0m\u001b[1;33m]\u001b[0m\u001b[1;33m)\u001b[0m\u001b[1;33m[\u001b[0m\u001b[1;36m0\u001b[0m\u001b[1;33m]\u001b[0m\u001b[1;33m[\u001b[0m\u001b[1;36m0\u001b[0m\u001b[1;33m]\u001b[0m\u001b[1;33m\u001b[0m\u001b[0m\n\u001b[0m\u001b[0;32m      4\u001b[0m     \u001b[0mdiendata\u001b[0m\u001b[1;33m[\u001b[0m\u001b[1;34m\"smalladd\"\u001b[0m\u001b[1;33m]\u001b[0m \u001b[1;33m=\u001b[0m \u001b[0mre\u001b[0m\u001b[1;33m.\u001b[0m\u001b[0mfindall\u001b[0m\u001b[1;33m(\u001b[0m\u001b[1;34m\"(..[市|縣])(\\w\\w?\\w?[區|市|鎮|鄉])\"\u001b[0m\u001b[1;33m,\u001b[0m\u001b[0mdiendata\u001b[0m\u001b[1;33m[\u001b[0m\u001b[1;34m\"address\"\u001b[0m\u001b[1;33m]\u001b[0m\u001b[1;33m)\u001b[0m\u001b[1;33m[\u001b[0m\u001b[1;36m0\u001b[0m\u001b[1;33m]\u001b[0m\u001b[1;33m[\u001b[0m\u001b[1;36m1\u001b[0m\u001b[1;33m]\u001b[0m\u001b[1;33m\u001b[0m\u001b[0m\n\u001b[0;32m      5\u001b[0m \u001b[1;33m\u001b[0m\u001b[0m\n",
      "\u001b[1;31mNameError\u001b[0m: name 're' is not defined"
     ]
    }
   ],
   "source": [
    "ipeenData=list(collection.find({}))\n",
    "\n",
    "    "
   ]
  },
  {
   "cell_type": "code",
   "execution_count": 16,
   "metadata": {},
   "outputs": [],
   "source": [
    "import re\n",
    "for diendata in ipeenData:\n",
    "    try:\n",
    "        diendata[\"bigadd\"] = re.findall(\"(..[市|縣])(\\w\\w?\\w?[區|市|鎮|鄉])\",diendata[\"address\"])[0][0]\n",
    "        diendata[\"smalladd\"] = re.findall(\"(..[市|縣])(\\w\\w?\\w?[區|市|鎮|鄉])\",diendata[\"address\"])[0][1]\n",
    "    except:\n",
    "        diendata[\"bigadd\"] =0\n",
    "        diendata[\"smalladd\"] =0"
   ]
  },
  {
   "cell_type": "code",
   "execution_count": 19,
   "metadata": {},
   "outputs": [
    {
     "data": {
      "text/plain": [
       "<pymongo.results.InsertManyResult at 0x23562988>"
      ]
     },
     "execution_count": 19,
     "metadata": {},
     "output_type": "execute_result"
    }
   ],
   "source": [
    "collection.drop()\n",
    "collection.insert_many(ipeenData)"
   ]
  },
  {
   "cell_type": "code",
   "execution_count": 20,
   "metadata": {},
   "outputs": [
    {
     "data": {
      "text/plain": [
       "{'Ncomment': 0,\n",
       " '_id': ObjectId('5a1f7de680b11017bc5810c5'),\n",
       " 'address': '台南市新營區健康路251號',\n",
       " 'averagecost': 0,\n",
       " 'bigadd': '台南市',\n",
       " 'bigstyle': '速食料理',\n",
       " 'collecount': 0,\n",
       " 'id': 100000,\n",
       " 'ipeenscore': 0,\n",
       " 'lat': 23.319379010490003,\n",
       " 'lng': 120.31197500804001,\n",
       " 'name': '麥當勞(新營家樂福店)',\n",
       " 'reviewdate': '2011/07/14',\n",
       " 'smalladd': '新營區',\n",
       " 'smallstyle': '漢堡、炸雞',\n",
       " 'status': '正常營業',\n",
       " 'tele': '066571158',\n",
       " 'viewcount': 2949}"
      ]
     },
     "execution_count": 20,
     "metadata": {},
     "output_type": "execute_result"
    }
   ],
   "source": [
    "list(collection.find({}))[0]"
   ]
  },
  {
   "cell_type": "code",
   "execution_count": null,
   "metadata": {
    "collapsed": true
   },
   "outputs": [],
   "source": []
  }
 ],
 "metadata": {
  "kernelspec": {
   "display_name": "Python 3",
   "language": "python",
   "name": "python3"
  },
  "language_info": {
   "codemirror_mode": {
    "name": "ipython",
    "version": 3
   },
   "file_extension": ".py",
   "mimetype": "text/x-python",
   "name": "python",
   "nbconvert_exporter": "python",
   "pygments_lexer": "ipython3",
   "version": "3.6.3"
  }
 },
 "nbformat": 4,
 "nbformat_minor": 2
}
