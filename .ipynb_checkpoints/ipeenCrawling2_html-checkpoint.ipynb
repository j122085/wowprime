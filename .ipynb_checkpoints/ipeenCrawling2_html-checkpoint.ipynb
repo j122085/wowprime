{
 "cells": [
  {
   "cell_type": "code",
   "execution_count": null,
   "metadata": {
    "collapsed": true
   },
   "outputs": [],
   "source": [
    "import json\n",
    "import requests\n",
    "import os\n",
    "from bs4 import BeautifulSoup as bs"
   ]
  },
  {
   "cell_type": "code",
   "execution_count": null,
   "metadata": {
    "collapsed": true
   },
   "outputs": [],
   "source": [
    "if not os.path.exists('../data/html'):\n",
    "    os.makedirs('../data/html')"
   ]
  },
  {
   "cell_type": "code",
   "execution_count": null,
   "metadata": {
    "collapsed": true
   },
   "outputs": [],
   "source": [
    "with open(\"../data/WebsiteSet.json\",\"r\") as f:\n",
    "    ipeenWebsite=json.load(f)"
   ]
  },
  {
   "cell_type": "markdown",
   "metadata": {},
   "source": [
    "# 第一版-待將存檔名改成id"
   ]
  },
  {
   "cell_type": "code",
   "execution_count": null,
   "metadata": {
    "collapsed": true,
    "scrolled": true
   },
   "outputs": [],
   "source": [
    "# for i in ipeenWebsite:\n",
    "#     if not os.path.exists('./data/html/'+i+'.html'):\n",
    "#         res=requests.get(ipeenWebsite[i])\n",
    "#         if res.status_code==200:\n",
    "#             with open(\"./data/html/\"+i+\".html\",\"w\",encoding=\"utf8\") as f:\n",
    "#                 f.write(res.text)\n",
    "#                 print(i)\n",
    "#             res.close()\n",
    "#         else:\n",
    "#             print(res.status_code)\n",
    "#             print(i+\"失敗\")\n",
    "#             res.close()\n",
    "#     else:\n",
    "#         print(i+\"已抓取跳過\")"
   ]
  },
  {
   "cell_type": "code",
   "execution_count": null,
   "metadata": {
    "collapsed": true
   },
   "outputs": [],
   "source": []
  },
  {
   "cell_type": "code",
   "execution_count": null,
   "metadata": {
    "collapsed": true
   },
   "outputs": [],
   "source": [
    "# 將店名網址改成ID名網址\n",
    "# n=0\n",
    "# for i in ipeenWebsite:\n",
    "#     if n%100==0:\n",
    "#         print(n)\n",
    "#     if os.path.exists('./data/html/'+i+'.html'):\n",
    "#         n+=1\n",
    "#         with open('./data/html/'+i+'.html',encoding=\"utf8\") as f:\n",
    "#             with open('./data/html2/'+ipeenWebsite[i].split(\"/\")[-1]+'.html',\"w\",encoding=\"utf8\") as d:\n",
    "#                 d.write(f.read())\n",
    "                \n",
    "                "
   ]
  },
  {
   "cell_type": "markdown",
   "metadata": {},
   "source": [
    "# 第二版 直接存ID 資料存於html2資料夾 (目前抓完約需三整天)"
   ]
  },
  {
   "cell_type": "code",
   "execution_count": null,
   "metadata": {},
   "outputs": [],
   "source": [
    "import time\n",
    "import json\n",
    "import requests\n",
    "import os\n",
    "from bs4 import BeautifulSoup as bs\n",
    "\n",
    "#建立儲存網址的地方\n",
    "if not os.path.exists('../data/html2'):\n",
    "    os.makedirs('../data/html2')\n",
    "    \n",
    "#確認共有幾個網址需要抓\n",
    "with open(\"../data/WebsiteSet.json\",\"r\") as f:\n",
    "    ipeenWebsite=json.load(f)\n",
    "    print(\"共有%s資料要抓取\"%len(ipeenWebsite))\n",
    "\n",
    "n=0\n",
    "#將每個網址的網頁抓下來，每30頁睡5秒防ban\n",
    "for i in ipeenWebsite:\n",
    "    if not os.path.exists('../data/html2/'+ipeenWebsite[i].split(\"/\")[-1]+'.html'):\n",
    "        n+=1\n",
    "        if n%15==0:\n",
    "            time.sleep(5)\n",
    "            print(n)\n",
    "        res=requests.get(ipeenWebsite[i])\n",
    "        if res.status_code==200:\n",
    "            with open(\"../data/html2/\"+ipeenWebsite[i].split(\"/\")[-1]+\".html\",\"w\",encoding=\"utf8\") as f:\n",
    "                f.write(res.text)\n",
    "                print(i)\n",
    "            res.close()\n",
    "        else:\n",
    "            print(res.status_code)\n",
    "            print(ipeenWebsite[i].split(\"/\")[-1]+\"失敗\")\n",
    "            res.close()\n",
    "    #過去抓取過的網頁直接跳過\n",
    "    else:\n",
    "        print(i+\"已抓取跳過\")"
   ]
  },
  {
   "cell_type": "code",
   "execution_count": null,
   "metadata": {
    "collapsed": true
   },
   "outputs": [],
   "source": [
    "with open(\"../data/WebsiteSet.json\",\"r\") as f:\n",
    "    ipeenWebsite=json.load(f)"
   ]
  },
  {
   "cell_type": "code",
   "execution_count": null,
   "metadata": {},
   "outputs": [],
   "source": [
    "ipeenWebsite"
   ]
  },
  {
   "cell_type": "code",
   "execution_count": null,
   "metadata": {
    "collapsed": true
   },
   "outputs": [],
   "source": []
  },
  {
   "cell_type": "markdown",
   "metadata": {},
   "source": [
    "# try summary"
   ]
  },
  {
   "cell_type": "code",
   "execution_count": null,
   "metadata": {
    "collapsed": true
   },
   "outputs": [],
   "source": [
    "import json\n",
    "import requests\n",
    "import os\n",
    "from bs4 import BeautifulSoup as bs\n",
    "if not os.path.exists('../data/html'):\n",
    "    os.makedirs('../data/html')\n",
    "with open(\"../data/WebsiteSet.json\",\"r\") as f:\n",
    "    ipeenWebsite=json.load(f)\n",
    "    \n",
    "import time\n",
    "import json\n",
    "import requests\n",
    "import os\n",
    "from bs4 import BeautifulSoup as bs\n",
    "\n",
    "#建立儲存網址的地方\n",
    "if not os.path.exists('../data/html2'):\n",
    "    os.makedirs('../data/html2')\n",
    "    \n",
    "#確認共有幾個網址需要抓\n",
    "with open(\"../data/WebsiteSet.json\",\"r\") as f:\n",
    "    ipeenWebsite=json.load(f)\n",
    "    print(\"共有%s資料要抓取\"%len(ipeenWebsite))\n",
    "\n",
    "n=0\n",
    "#將每個網址的網頁抓下來，每30頁睡5秒防ban\n",
    "for i in ipeenWebsite:\n",
    "    if not os.path.exists('../data/html2/'+ipeenWebsite[i].split(\"/\")[-1]+'.html'):\n",
    "        n+=1\n",
    "        if n%15==0:\n",
    "            time.sleep(5)\n",
    "            print(n)\n",
    "        res=requests.get(ipeenWebsite[i])\n",
    "        if res.status_code==200:\n",
    "            with open(\"../data/html2/\"+ipeenWebsite[i].split(\"/\")[-1]+\".html\",\"w\",encoding=\"utf8\") as f:\n",
    "                f.write(res.text)\n",
    "                print(i)\n",
    "            res.close()\n",
    "        else:\n",
    "            print(res.status_code)\n",
    "            print(ipeenWebsite[i].split(\"/\")[-1]+\"失敗\")\n",
    "            res.close()\n",
    "    #過去抓取過的網頁直接跳過\n",
    "    else:\n",
    "        print(i+\"已抓取跳過\")"
   ]
  }
 ],
 "metadata": {
  "kernelspec": {
   "display_name": "Python 3",
   "language": "python",
   "name": "python3"
  },
  "language_info": {
   "codemirror_mode": {
    "name": "ipython",
    "version": 3
   },
   "file_extension": ".py",
   "mimetype": "text/x-python",
   "name": "python",
   "nbconvert_exporter": "python",
   "pygments_lexer": "ipython3",
   "version": "3.6.3"
  }
 },
 "nbformat": 4,
 "nbformat_minor": 2
}
