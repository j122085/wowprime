{
 "cells": [
  {
   "cell_type": "code",
   "execution_count": 3,
   "metadata": {},
   "outputs": [
    {
     "data": {
      "text/plain": [
       "(221, b'2.0.0 Bye')"
      ]
     },
     "execution_count": 3,
     "metadata": {},
     "output_type": "execute_result"
    }
   ],
   "source": [
    "# Import smtplib for the actual sending function\n",
    "import smtplib\n",
    "\n",
    "# Import the email modules we'll need\n",
    "from email.message import EmailMessage\n",
    "\n",
    "# Open the plain text file whose name is in textfile for reading.\n",
    "with open(textfile) as fp:\n",
    "    # Create a text/plain message\n",
    "    msg = EmailMessage()\n",
    "    msg.set_content(fp.read())\n",
    "\n",
    "# me == the sender's email address\n",
    "# you == the recipient's email address\n",
    "msg['Subject'] = 'The contents of %s' % textfile\n",
    "msg['From'] = me\n",
    "msg['To'] = you\n",
    "\n",
    "\n",
    "# Send the message via our own SMTP server.\n",
    "s = smtplib.SMTP('localhost')\n",
    "s.send_message(msg)\n",
    "s.quit()"
   ]
  },
  {
   "cell_type": "code",
   "execution_count": 4,
   "metadata": {},
   "outputs": [
    {
     "name": "stdout",
     "output_type": "stream",
     "text": [
      "To: someone_else@example.com\n",
      "From: Foo Bar <user@example.com>\n",
      "Subject: Test message\n",
      "Recipient username: someone_else\n",
      "Sender name: Foo Bar\n"
     ]
    }
   ],
   "source": [
    "# Import the email modules we'll need\n",
    "from email.parser import BytesParser, Parser\n",
    "from email.policy import default\n",
    "\n",
    "# If the e-mail headers are in a file, uncomment these two lines:\n",
    "# with open(messagefile, 'rb') as fp:\n",
    "#     headers = BytesParser(policy=default).parse(fp)\n",
    "\n",
    "#  Or for parsing headers in a string (this is an uncommon operation), use:\n",
    "headers = Parser(policy=default).parsestr(\n",
    "        'From: Foo Bar <user@example.com>\\n'\n",
    "        'To: <someone_else@example.com>\\n'\n",
    "        'Subject: Test message\\n'\n",
    "        '\\n'\n",
    "        'Body would go here\\n')\n",
    "\n",
    "#  Now the header items can be accessed as a dictionary:\n",
    "print('To: {}'.format(headers['to']))\n",
    "print('From: {}'.format(headers['from']))\n",
    "print('Subject: {}'.format(headers['subject']))\n",
    "\n",
    "# You can also access the parts of the addresses:\n",
    "print('Recipient username: {}'.format(headers['to'].addresses[0].username))\n",
    "print('Sender name: {}'.format(headers['from'].addresses[0].display_name))"
   ]
  },
  {
   "cell_type": "code",
   "execution_count": 15,
   "metadata": {},
   "outputs": [],
   "source": [
    "import smtplib\n",
    "import imghdr\n",
    "from email.message import EmailMessage\n",
    "\n",
    "msg = EmailMessage()\n",
    "msg['Subject'] = 'Our family reunion'\n",
    "me =\"NetServer\"\n",
    "family = ['j122085@hotmail.com','andy.yuan@wowprime.com']\n",
    "msg['From'] = me\n",
    "msg['To'] = ', '.join(family)\n",
    "msg.preamble = 'Our family reunion'\n",
    "pngfiles=[r'C:/Users/Public/Pictures/Sample Pictures/Chrysanthemum.jpg',r'C:/Users/Public/Pictures/Sample Pictures/Desert.jpg']\n",
    "for file in pngfiles:\n",
    "    with open(file, 'rb') as fp:\n",
    "        img_data = fp.read()\n",
    "    msg.add_attachment(img_data, maintype='image',\n",
    "                                 subtype=imghdr.what(None, img_data))\n",
    "with smtplib.SMTP('192.168.2.1') as s:\n",
    "    s.send_message(msg)"
   ]
  },
  {
   "cell_type": "code",
   "execution_count": 41,
   "metadata": {},
   "outputs": [],
   "source": [
    "import smtplib\n",
    "from email.message import EmailMessage\n",
    "import time\n",
    "msg = EmailMessage()\n",
    "msg.set_content(str(time.strftime(\"%Y/%m/%d %H:%M\")))\n",
    "msg['Subject'] = 'The Ipeen Crawler has started to run'\n",
    "msg['From'] = \"ServerNet\"\n",
    "msg['To'] = 'andy.yuan@wowprime.com'\n",
    "with smtplib.SMTP('192.168.2.1',25) as s:\n",
    "    s.send_message(msg)"
   ]
  },
  {
   "cell_type": "code",
   "execution_count": null,
   "metadata": {
    "collapsed": true
   },
   "outputs": [],
   "source": []
  }
 ],
 "metadata": {
  "kernelspec": {
   "display_name": "Python 3",
   "language": "python",
   "name": "python3"
  },
  "language_info": {
   "codemirror_mode": {
    "name": "ipython",
    "version": 3
   },
   "file_extension": ".py",
   "mimetype": "text/x-python",
   "name": "python",
   "nbconvert_exporter": "python",
   "pygments_lexer": "ipython3",
   "version": "3.6.3"
  }
 },
 "nbformat": 4,
 "nbformat_minor": 2
}
