{
 "cells": [
  {
   "cell_type": "markdown",
   "metadata": {
    "collapsed": true
   },
   "source": [
    "# 第一版存取"
   ]
  },
  {
   "cell_type": "code",
   "execution_count": 1,
   "metadata": {},
   "outputs": [
    {
     "data": {
      "text/plain": [
       "['wowprimediendata', 'wowprimeipeenAddCommentURL', 'wowprimeipeen']"
      ]
     },
     "execution_count": 1,
     "metadata": {},
     "output_type": "execute_result"
    }
   ],
   "source": [
    "import pymongo\n",
    "from pymongo import MongoClient\n",
    "import datetime\n",
    "import json\n",
    "import time\n",
    "from functools import reduce\n",
    "\n",
    "#連Mongodb\n",
    "client = MongoClient('172.20.26.39', 27017)\n",
    "#連DB名\n",
    "db=client['rawData']\n",
    "#秀DB內的collection list\n",
    "db.collection_names()"
   ]
  },
  {
   "cell_type": "code",
   "execution_count": null,
   "metadata": {
    "collapsed": true,
    "scrolled": true
   },
   "outputs": [],
   "source": [
    "#選擇我們想要的collection\n",
    "collection = db.wowprimeipeen\n",
    "#list(dict)的去重公式\n",
    "f = lambda x,y:x if y in x else x + [y]\n",
    "\n",
    "#不斷重複動作\n",
    "while True:\n",
    "    #讀取資料\n",
    "    try:\n",
    "        with open(\"../data/diendata.json\",\"r\") as d:\n",
    "            diendata=json.load(d)\n",
    "            print(\"讀取完畢\")\n",
    "            #做去重動作\n",
    "            diendata = reduce(f, [[], ] + diendata)\n",
    "            print(\"去重完畢\")\n",
    "            with open(\"../data/mongodiendata.json\",\"w\") as d:\n",
    "                json.dump(diendata,d)\n",
    "            print(\"另存完畢\")\n",
    "            #比數變多，則做儲存動作\n",
    "            if len(diendata)>len(list(collection.find({}))):\n",
    "                collection.drop()\n",
    "                collection.insert_many(diendata)\n",
    "                print(\"存資料庫完畢\")\n",
    "                print(\"目前有%s筆資料\"%len(list(collection.find({}))))\n",
    "                #將去重的資料再儲存於外部json檔\n",
    "                \n",
    "            #如果資料筆數不變，則停止繼續儲存的行為\n",
    "            else:\n",
    "                print(\"已存最大筆數\")\n",
    "                break\n",
    "    except Exception as e:\n",
    "        print(e)\n",
    "        time.sleep(3)\n",
    "        continue\n",
    "    time.sleep(900)"
   ]
  },
  {
   "cell_type": "code",
   "execution_count": 4,
   "metadata": {},
   "outputs": [
    {
     "name": "stdout",
     "output_type": "stream",
     "text": [
      "讀取完畢\n",
      "資料編輯完畢\n",
      "儲存完畢\n"
     ]
    }
   ],
   "source": [
    "#將資料讀出存成excel\n",
    "\n",
    "import pandas as pd\n",
    "import re\n",
    "\n",
    "collection = db.wowprimeipeen\n",
    "data=list(collection.find({}))\n",
    "\n",
    "print(\"讀取完畢\")\n",
    "\n",
    "#加入一些資料\n",
    "for i in data:\n",
    "    try:\n",
    "        i['othername']=re.findall(\"\\((\\w*[店|館|門市|百貨|街|夜市|商場|時代|廣場|中心|三越|大學|中|區|高鐵])\\)\",i['name'])[0]\n",
    "    except:\n",
    "        i['othername']=0\n",
    "    if i['othername']!=0:\n",
    "        i['name']=i['name'].split(\"(\")[0]\n",
    "    try:\n",
    "        i[\"bigadd\"]=re.findall(\"(..[市|縣])(\\w\\w?\\w?[區|市|鎮|鄉])\",\n",
    "                               i[\"address\"])[0][0]\n",
    "#         i[\"bigadd\"]=re.findall(\"(..[市|縣])(.+[區|市|鎮|鄉]).+[路|街|地段|巷][0-9]+[-|之]?[0-9]*?[號|巷|弄]?[0-9]*[號|巷|弄|樓]\",\n",
    "#                                i[\"address\"])[0][0]\n",
    "    except:\n",
    "        i['bigadd']=0\n",
    "    try:\n",
    "        i[\"smalladd\"]=re.findall(\"(..[市|縣])(\\w\\w?\\w?[區|市|鎮|鄉])\",\n",
    "                           i[\"address\"])[0][1]\n",
    "    except:\n",
    "        i[\"smalladd\"]=0\n",
    "#     if i[\"address\"]==0 and i[\"status\"]!=\"結束營業\":\n",
    "#         i[\"status\"]=\"無地址可能已搬遷\"\n",
    "print(\"資料編輯完畢\")\n",
    "        \n",
    "# Create a Pandas dataframe from some data.\n",
    "df = pd.DataFrame(data)\n",
    "df\n",
    "\n",
    "df=df.reindex(columns=['id','name','othername','tele','address','bigadd',\"smalladd\",'lat','lng','bigstyle','smallstyle','averagecost',\n",
    "                    'ipeenscore','status','Ncomment','reviewdate'])\n",
    "# # Create a Pandas Excel writer using XlsxWriter as the engine.\n",
    "writer = pd.ExcelWriter('../data/ipeenpandas.xlsx', engine='xlsxwriter')\n",
    "\n",
    "# # Convert the dataframe to an XlsxWriter Excel object.\n",
    "df.to_excel(writer, sheet_name='Sheet1')\n",
    "\n",
    "# # Close the Pandas Excel writer and output the Excel file.\n",
    "writer.save()\n",
    "print(\"儲存完畢\")"
   ]
  },
  {
   "cell_type": "code",
   "execution_count": 3,
   "metadata": {},
   "outputs": [
    {
     "name": "stdout",
     "output_type": "stream",
     "text": [
      "讀取完畢\n",
      "去重完畢\n",
      "另存完畢\n",
      "存資料庫完畢\n",
      "目前有166483筆資料\n"
     ]
    }
   ],
   "source": [
    "#存進mongo一次用\n",
    "collection = db.wowprimeipeen\n",
    "f = lambda x,y:x if y in x else x + [y]\n",
    "with open(\"../data/diendata.json\",\"r\") as d:\n",
    "    diendata=json.load(d)\n",
    "    print(\"讀取完畢\")\n",
    "    #做去重動作\n",
    "    diendata = reduce(f, [[], ] + diendata)\n",
    "    print(\"去重完畢\")\n",
    "    with open(\"../data/mongodiendata.json\",\"w\") as d:\n",
    "            json.dump(diendata,d)\n",
    "    print(\"另存完畢\")\n",
    "    #比數變多，則做儲存動作\n",
    "    if len(diendata)>len(list(collection.find({}))):\n",
    "        collection.drop()\n",
    "        collection.insert_many(diendata)\n",
    "        print(\"存資料庫完畢\")\n",
    "        print(\"目前有%s筆資料\"%len(list(collection.find({}))))"
   ]
  },
  {
   "cell_type": "markdown",
   "metadata": {},
   "source": [
    "# 用mongodb的資料，修復原始json檔"
   ]
  },
  {
   "cell_type": "code",
   "execution_count": null,
   "metadata": {
    "collapsed": true,
    "scrolled": true
   },
   "outputs": [],
   "source": [
    "x=list(collection.find({}))\n",
    "[i.pop(\"_id\") for i in x]\n",
    "\n",
    "with open(\"../data/diendata.json\",\"w\") as d:\n",
    "    json.dump(x,d)"
   ]
  },
  {
   "cell_type": "code",
   "execution_count": null,
   "metadata": {
    "collapsed": true,
    "scrolled": true
   },
   "outputs": [],
   "source": [
    "# # 用mongodb的資料，修復原始json檔 修復地址\n",
    "# from bs4 import BeautifulSoup as bs\n",
    "# collection = db.wowprimeipeen\n",
    "# x=list(collection.find({}))\n",
    "# [i.pop(\"_id\") for i in x]\n",
    "# for i in x:\n",
    "#     if i['address']==0 and i['lng']!=0:\n",
    "#         try:\n",
    "#             with open(\"./data/html2/\"+str(i['id'])+\".html\",\"r\",encoding='utf8') as f:\n",
    "#                 dienhtml=f.read()\n",
    "#                 soup=bs(dienhtml,\"lxml\")\n",
    "#                 info=soup.select_one(\"#shop-header > div.info\")\n",
    "#                 i[\"address\"]=info.find('a', attrs={'data-label': '上方地址'}).text.replace(\"\\n\",\" \").strip()\n",
    "# #                 print(i[\"address\"])\n",
    "#         except Exception as e:\n",
    "#             print(e)\n",
    "\n",
    "# # 用mongodb的資料，修復原始json檔 修復狀態\n",
    "# from bs4 import BeautifulSoup as bs\n",
    "# collection = db.wowprimeipeen\n",
    "# x=list(collection.find({}))\n",
    "# [i.pop(\"_id\") for i in x]\n",
    "# n=0\n",
    "# for i in x:\n",
    "#     if i['address']==0 and i['status']==\"正常營業\":\n",
    "#         try:\n",
    "#             with open(\"./data/html2/\"+str(i['id'])+\".html\",\"r\",encoding='utf8') as f:\n",
    "#                 n+=1\n",
    "#                 if n%50==0:\n",
    "#                     print(n)\n",
    "#                 dienhtml=f.read()\n",
    "#                 soup=bs(dienhtml,\"lxml\")\n",
    "#                 info=soup.select_one(\"#shop-header > div.info\")\n",
    "#                 if \"已搬遷\" in info.select_one(\"h1\").text:\n",
    "#                     i[\"status\"]=\"已搬遷\"\n",
    "                \n",
    "#         except Exception as e:\n",
    "#             print(e)\n",
    "            \n",
    "            \n",
    "# with open(\"./data/diendata.json\",\"w\") as d:\n",
    "#     json.dump(x,d)\n"
   ]
  },
  {
   "cell_type": "code",
   "execution_count": null,
   "metadata": {
    "collapsed": true,
    "scrolled": true
   },
   "outputs": [],
   "source": [
    "collection.drop()\n",
    "collection.insert_many(x)\n",
    "[i.pop(\"_id\") for i in x]\n",
    "with open(\"../data/mongodiendata.json\",\"w\") as d:\n",
    "    json.dump(x,d)\n",
    "with open(\"../data/diendata.json\",\"w\") as d:\n",
    "    json.dump(x,d)"
   ]
  },
  {
   "cell_type": "code",
   "execution_count": null,
   "metadata": {
    "collapsed": true
   },
   "outputs": [],
   "source": [
    "x=list(collection.find({}))\n",
    "len(x)"
   ]
  },
  {
   "cell_type": "code",
   "execution_count": null,
   "metadata": {
    "collapsed": true
   },
   "outputs": [],
   "source": [
    "with open(\"../data/diendata.json\",\"r\") as d:\n",
    "    diendata=json.load(d)\n",
    "len(diendata)"
   ]
  },
  {
   "cell_type": "markdown",
   "metadata": {},
   "source": [
    "# 第二版存取(含CommentURL)"
   ]
  },
  {
   "cell_type": "code",
   "execution_count": null,
   "metadata": {
    "collapsed": true
   },
   "outputs": [],
   "source": [
    "import pymongo\n",
    "from pymongo import MongoClient\n",
    "import datetime\n",
    "import json\n",
    "import time\n",
    "from functools import reduce\n",
    "\n",
    "#連Mongodb\n",
    "client = MongoClient('172.20.26.39', 27017)\n",
    "#連DB名\n",
    "db=client['rawData']\n",
    "#秀DB內的collection list\n",
    "db.collection_names()\n"
   ]
  },
  {
   "cell_type": "code",
   "execution_count": null,
   "metadata": {
    "collapsed": true
   },
   "outputs": [],
   "source": [
    "#選擇我們想要的collection(亦可直接新增)\n",
    "collection = db.wowprimeipeenAddCommentURL"
   ]
  },
  {
   "cell_type": "code",
   "execution_count": null,
   "metadata": {
    "collapsed": true
   },
   "outputs": [],
   "source": [
    "#list(dict)的去重公式\n",
    "f = lambda x,y:x if y in x else x + [y]\n",
    "\n",
    "loadPath='../data/diendataAddCommentUrl.json'\n",
    "#不斷重複動作\n",
    "while True:\n",
    "    #讀取資料\n",
    "    try:\n",
    "        with open(loadPath,\"r\") as d:\n",
    "            diendata=json.load(d)\n",
    "            print(\"讀取完畢\")\n",
    "            #做去重動作\n",
    "            diendata = reduce(f, [[], ] + diendata)\n",
    "            print(\"去重完畢\")\n",
    "            with open(\"../data/mongodiendata2.json\",\"w\") as d:\n",
    "                    json.dump(diendata,d)\n",
    "            print(\"另存完畢\")\n",
    "            #比數變多，則做儲存動作\n",
    "            if len(diendata)>len(list(collection.find({}))):\n",
    "                collection.drop()\n",
    "                collection.insert_many(diendata)\n",
    "                print(\"存資料庫完畢\")\n",
    "                print(\"目前有%s筆資料\"%len(list(collection.find({}))))\n",
    "                #將去重的資料再儲存於外部json檔\n",
    "                \n",
    "            #如果資料筆數不變，則停止繼續儲存的行為\n",
    "            else:\n",
    "                print(\"已存最大筆數\")\n",
    "                break\n",
    "    except Exception as e:\n",
    "        print(e)\n",
    "        time.sleep(3)\n",
    "        continue\n",
    "    time.sleep(900)"
   ]
  },
  {
   "cell_type": "code",
   "execution_count": null,
   "metadata": {
    "collapsed": true,
    "scrolled": true
   },
   "outputs": [],
   "source": [
    "x=list(collection.find({}))\n",
    "[i.pop(\"_id\") for i in x]\n",
    "x"
   ]
  },
  {
   "cell_type": "code",
   "execution_count": null,
   "metadata": {
    "collapsed": true
   },
   "outputs": [],
   "source": []
  }
 ],
 "metadata": {
  "kernelspec": {
   "display_name": "Python 3",
   "language": "python",
   "name": "python3"
  },
  "language_info": {
   "codemirror_mode": {
    "name": "ipython",
    "version": 3
   },
   "file_extension": ".py",
   "mimetype": "text/x-python",
   "name": "python",
   "nbconvert_exporter": "python",
   "pygments_lexer": "ipython3",
   "version": "3.6.3"
  }
 },
 "nbformat": 4,
 "nbformat_minor": 2
}
