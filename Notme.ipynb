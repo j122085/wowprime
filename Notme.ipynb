{
 "cells": [
  {
   "cell_type": "code",
   "execution_count": 1,
   "metadata": {
    "scrolled": true
   },
   "outputs": [
    {
     "name": "stdout",
     "output_type": "stream",
     "text": [
      "http://www.ipeen.com.tw/shop/1066748-Cest-La-Vie-瑟-拉威咖啡館\n",
      "1066748\n",
      "CestLaVie瑟.拉威咖啡館\n",
      "咖啡專賣\n",
      "高雄市新興區民族二路66號\n",
      "22.63251800464 120.31373800359\n",
      "http://www.ipeen.com.tw/shop/67012-螺絲瑪莉-Rose-Mary\n",
      "67012\n",
      "螺絲瑪莉RoseMary\n",
      "義式料理\n",
      "台北市中山區南京西路12巷13弄9號\n",
      "25.051715000850002 121.52191300095004\n",
      "http://www.ipeen.com.tw/shop/28362-喀佈貍-大眾和風洋食居酒屋-一店\n",
      "28362\n",
      "喀佈貍-大眾和風洋食居酒屋(一店)\n",
      "居酒屋\n",
      "台北市大安區樂利路11巷8號1樓\n",
      "25.02818901766 121.55156001782\n",
      "http://www.ipeen.com.tw/shop/8940-三味食堂日式料理\n",
      "8940\n",
      "三味食堂日式料理\n",
      "綜合日式料理\n",
      "台北市萬華區貴陽街二段116號\n",
      "25.03991700297 121.5026590146\n",
      "http://www.ipeen.com.tw/shop/27702-阜杭豆漿店\n",
      "27702\n",
      "阜杭豆漿店\n",
      "中式早餐\n",
      "台北市中正區忠孝東路一段108號2樓\n",
      "25.04419400884 121.52483400330006\n",
      "http://www.ipeen.com.tw/shop/135709-紗汀娜好食\n",
      "135709\n",
      "紗汀娜好食\n",
      "法式料理\n",
      "台北市中山區中山北路二段183巷1-5號\n",
      "25.063810835184576 121.52300728474395\n",
      "http://www.ipeen.com.tw/shop/9274-肥前屋\n",
      "9274\n",
      "肥前屋\n",
      "其他日式料理\n",
      "台北市中山區中山北路一段121巷13-2號\n",
      "25.05118201962 121.52367400644\n",
      "http://www.ipeen.com.tw/shop/151317-Oyami-cafe\n",
      "151317\n",
      "Oyamicafe\n",
      "咖啡專賣\n",
      "台北市萬華區武昌街二段50巷15號2樓\n",
      "25.04429501465 121.50701600974999\n",
      "http://www.ipeen.com.tw/shop/119130-上引水產\n",
      "119130\n",
      "上引水產\n",
      "生魚片、壽司專賣\n",
      "台北市中山區民族東路410巷2弄18號\n",
      "25.06667301217 121.53710801326001\n",
      "http://www.ipeen.com.tw/shop/141715-宮原眼科\n",
      "141715\n",
      "宮原眼科\n",
      "懷舊主題\n",
      "台中市中區中山路20號\n",
      "24.13781101447 120.6833570038\n",
      "http://www.ipeen.com.tw/shop/114069-和茗甘味處\n",
      "114069\n",
      "和茗甘味處\n",
      "甜品、甜湯\n",
      "台北市大安區金華街221號1樓\n",
      "25.029831019840003 121.5293470152\n",
      "http://www.ipeen.com.tw/shop/141831-小六食堂\n",
      "141831\n",
      "小六食堂\n",
      "其他日式料理\n",
      "台北市中山區松江路259巷8號\n",
      "25.059461001699997 121.53393301459\n",
      "http://www.ipeen.com.tw/shop/941562-叁和院-台灣風格飲食-忠孝旗艦店\n",
      "941562\n",
      "叁和院台灣風格飲食(忠孝旗艦店)\n",
      "台菜餐廳\n",
      "台北市大安區忠孝東路四段101巷14號\n",
      "25.0423964 121.54788980000001\n",
      "http://www.ipeen.com.tw/shop/141337-蘑菇森林義大利麵坊\n",
      "141337\n",
      "蘑菇森林義大利麵坊\n",
      "義式料理\n",
      "台北市大同區長安西路33號\n",
      "25.05037601933 121.51975500827001\n",
      "http://www.ipeen.com.tw/shop/100314-貓咪先生的朋友\n",
      "100314\n",
      "貓咪先生的朋友\n",
      "寵物餐廳\n",
      "台北市大安區大安路一段83巷7號(A棟1樓)\n",
      "25.04107901354 121.54689501605995\n",
      "http://www.ipeen.com.tw/shop/612904-UZNA-OMOM-杏桃鬆餅屋\n",
      "612904\n",
      "UZNAOMOM杏桃鬆餅屋\n",
      "西點烘焙、麵包\n",
      "台北市大安區忠孝東路四段216巷19弄16號\n",
      "25.04023400139 121.55390501748\n"
     ]
    }
   ],
   "source": [
    "import requests\n",
    "from bs4 import BeautifulSoup\n",
    "import re\n",
    "\n",
    "HTML_PARSER = \"html.parser\"\n",
    "ROOT_URL = 'http://www.ipeen.com.tw'\n",
    "LIST_URL = 'http://www.ipeen.com.tw/search/taiwan/000/1-0-0-0/'\n",
    "SHOP_PATH = 'shop/'\n",
    "SPACE_RE = re.compile(r'\\s+')\n",
    "\n",
    "\n",
    "def get_shop_link_list():\n",
    "    list_req = requests.get(LIST_URL)\n",
    "    if list_req.status_code == requests.codes.ok:\n",
    "        soup = BeautifulSoup(list_req.content, HTML_PARSER)\n",
    "        shop_links_a_tags = soup.find_all('a', attrs={'data-label': '店名'})\n",
    "\n",
    "        shop_links = []\n",
    "        for link in shop_links_a_tags:\n",
    "            shop_link = ROOT_URL + link['href']\n",
    "            print(shop_link)#網址\n",
    "            shop_links.append(shop_link)\n",
    "            parse_shop_information(shop_link)\n",
    "\n",
    "\n",
    "def parse_shop_information(shop_link):\n",
    "    shop_id = re.sub(re.compile(r'^.*/' + SHOP_PATH), '', shop_link).split('-')[0]\n",
    "    print(shop_id)#id\n",
    "\n",
    "    req = requests.get(shop_link)\n",
    "    if req.status_code == requests.codes.ok:\n",
    "        soup = BeautifulSoup(req.content, HTML_PARSER)\n",
    "        shop_header_tag = soup.find('div', id='shop-header')\n",
    "        name_tag = shop_header_tag.find('span', attrs={'itemprop': 'name'})\n",
    "        print(re.sub(SPACE_RE, '', name_tag.text))#店名\n",
    "        category_tag = shop_header_tag.find(\"p\", class_={'cate i'})\n",
    "        print(re.sub(SPACE_RE, '', category_tag.a.text))#type\n",
    "        address_tag = shop_header_tag.find('a', attrs={'data-label': '上方地址'})\n",
    "        print(re.sub(SPACE_RE, '', address_tag.text))#add\n",
    "\n",
    "        gps_str = address_tag['href']\n",
    "        # print(gps_str)\n",
    "        gps_str = re.search('/c=(\\d+.\\d*),(\\d+.\\d*)/', gps_str).group().replace('/', '')\n",
    "        # print(gps_str)\n",
    "        lat = gps_str.split(',')[0]\n",
    "        lng = gps_str.split(',')[1]\n",
    "        print(lat.split('=')[1], lng)\n",
    "\n",
    "\n",
    "if __name__ == '__main__':\n",
    "    get_shop_link_list()"
   ]
  },
  {
   "cell_type": "code",
   "execution_count": 2,
   "metadata": {
    "collapsed": true
   },
   "outputs": [],
   "source": [
    "import requests\n",
    "from bs4 import BeautifulSoup\n",
    "import re\n",
    "\n",
    "HTML_PARSER = \"html.parser\"\n",
    "ROOT_URL = 'http://www.ipeen.com.tw'\n",
    "LIST_URL = 'http://www.ipeen.com.tw/search/taiwan/000/1-0-0-0/'\n",
    "SHOP_PATH = 'shop/'\n",
    "SPACE_RE = re.compile(r'\\s+')"
   ]
  },
  {
   "cell_type": "code",
   "execution_count": 2,
   "metadata": {
    "collapsed": true
   },
   "outputs": [],
   "source": [
    "list_req = requests.get(LIST_URL)\n",
    "if list_req.status_code == requests.codes.ok:\n",
    "    soup = BeautifulSoup(list_req.content, HTML_PARSER)\n",
    "    shop_links_a_tags = soup.find_all('a', attrs={'data-label': '店名'})\n",
    "\n",
    "    shop_links = []\n",
    "    "
   ]
  },
  {
   "cell_type": "code",
   "execution_count": 13,
   "metadata": {},
   "outputs": [
    {
     "name": "stdout",
     "output_type": "stream",
     "text": [
      "http://www.ipeen.com.tw/shop/1117637-多麥綠烘焙美食-鳳山店\n",
      "http://www.ipeen.com.tw/shop/67012-螺絲瑪莉-Rose-Mary\n",
      "http://www.ipeen.com.tw/shop/28362-喀佈貍-大眾和風洋食居酒屋-一店\n",
      "http://www.ipeen.com.tw/shop/8940-三味食堂日式料理\n",
      "http://www.ipeen.com.tw/shop/27702-阜杭豆漿店\n",
      "http://www.ipeen.com.tw/shop/135709-紗汀娜好食\n",
      "http://www.ipeen.com.tw/shop/9274-肥前屋\n",
      "http://www.ipeen.com.tw/shop/151317-Oyami-cafe\n",
      "http://www.ipeen.com.tw/shop/119130-上引水產\n",
      "http://www.ipeen.com.tw/shop/141715-宮原眼科\n",
      "http://www.ipeen.com.tw/shop/114069-和茗甘味處\n",
      "http://www.ipeen.com.tw/shop/141831-小六食堂\n",
      "http://www.ipeen.com.tw/shop/941562-叁和院-台灣風格飲食-忠孝旗艦店\n",
      "http://www.ipeen.com.tw/shop/141337-蘑菇森林義大利麵坊\n",
      "http://www.ipeen.com.tw/shop/100314-貓咪先生的朋友\n",
      "http://www.ipeen.com.tw/shop/612904-UZNA-OMOM-杏桃鬆餅屋\n"
     ]
    }
   ],
   "source": [
    "for link in shop_links_a_tags:\n",
    "    shop_link = ROOT_URL + link['href']\n",
    "    print(shop_link)\n",
    "    shop_links.append(shop_link)\n",
    "    "
   ]
  },
  {
   "cell_type": "code",
   "execution_count": 14,
   "metadata": {},
   "outputs": [
    {
     "ename": "SyntaxError",
     "evalue": "unexpected EOF while parsing (<ipython-input-14-aeb879fcee82>, line 1)",
     "output_type": "error",
     "traceback": [
      "\u001b[1;36m  File \u001b[1;32m\"<ipython-input-14-aeb879fcee82>\"\u001b[1;36m, line \u001b[1;32m1\u001b[0m\n\u001b[1;33m    for link in shop_links_a_tags:\u001b[0m\n\u001b[1;37m                                  ^\u001b[0m\n\u001b[1;31mSyntaxError\u001b[0m\u001b[1;31m:\u001b[0m unexpected EOF while parsing\n"
     ]
    }
   ],
   "source": [
    "\n",
    "for link in shop_links_a_tags:\n",
    "    shop_id = re.sub(re.compile(r'^.*/' + SHOP_PATH), '', shop_link).split('-')[0]\n",
    "    print(shop_id)\n",
    "\n",
    "    req = requests.get(shop_link)\n",
    "    if req.status_code == requests.codes.ok:\n",
    "        soup = BeautifulSoup(req.content, HTML_PARSER)\n",
    "        shop_header_tag = soup.find('div', id='shop-header')\n",
    "        name_tag = shop_header_tag.find('span', attrs={'itemprop': 'name'})\n",
    "        print(re.sub(SPACE_RE, '', name_tag.text))\n",
    "        category_tag = shop_header_tag.find(\"p\", class_={'cate i'})\n",
    "        print(re.sub(SPACE_RE, '', category_tag.a.text))\n",
    "        address_tag = shop_header_tag.find('a', attrs={'data-label': '上方地址'})\n",
    "        print(re.sub(SPACE_RE, '', address_tag.text))\n",
    "\n",
    "        gps_str = address_tag['href']\n",
    "        # print(gps_str)\n",
    "        gps_str = re.search('/c=(\\d+.\\d*),(\\d+.\\d*)/', gps_str).group().replace('/', '')\n",
    "        # print(gps_str)\n",
    "        lat = gps_str.split(',')[0]\n",
    "        lng = gps_str.split(',')[1]\n",
    "        print(lat.split('=')[1], lng)\n"
   ]
  },
  {
   "cell_type": "code",
   "execution_count": 12,
   "metadata": {},
   "outputs": [
    {
     "data": {
      "text/plain": [
       "[<a class=\"a37 ga_tracking\" data-action=\"ad_shop\" data-category=\"search\" data-label=\"店名\" href=\"/shop/1117637-多麥綠烘焙美食-鳳山店\" target=\"_blank\">多麥綠烘焙美食(鳳山店)</a>,\n",
       " <a class=\"a37 ga_tracking\" data-action=\"shop_1\" data-category=\"search\" data-label=\"店名\" href=\"/shop/67012-螺絲瑪莉-Rose-Mary\" target=\"_blank\">螺絲瑪莉 Rose Mary</a>,\n",
       " <a class=\"a37 ga_tracking\" data-action=\"shop_2\" data-category=\"search\" data-label=\"店名\" href=\"/shop/28362-喀佈貍-大眾和風洋食居酒屋-一店\" target=\"_blank\">喀佈貍-大眾和風洋食居酒屋(一店)</a>,\n",
       " <a class=\"a37 ga_tracking\" data-action=\"shop_3\" data-category=\"search\" data-label=\"店名\" href=\"/shop/8940-三味食堂日式料理\" target=\"_blank\">三味食堂日式料理</a>,\n",
       " <a class=\"a37 ga_tracking\" data-action=\"shop_4\" data-category=\"search\" data-label=\"店名\" href=\"/shop/27702-阜杭豆漿店\" target=\"_blank\">阜杭豆漿店</a>,\n",
       " <a class=\"a37 ga_tracking\" data-action=\"shop_5\" data-category=\"search\" data-label=\"店名\" href=\"/shop/135709-紗汀娜好食\" target=\"_blank\">紗汀娜好食</a>,\n",
       " <a class=\"a37 ga_tracking\" data-action=\"shop_6\" data-category=\"search\" data-label=\"店名\" href=\"/shop/9274-肥前屋\" target=\"_blank\">肥前屋</a>,\n",
       " <a class=\"a37 ga_tracking\" data-action=\"shop_7\" data-category=\"search\" data-label=\"店名\" href=\"/shop/151317-Oyami-cafe\" target=\"_blank\">Oyami cafe</a>,\n",
       " <a class=\"a37 ga_tracking\" data-action=\"shop_8\" data-category=\"search\" data-label=\"店名\" href=\"/shop/119130-上引水產\" target=\"_blank\">上引水產</a>,\n",
       " <a class=\"a37 ga_tracking\" data-action=\"shop_9\" data-category=\"search\" data-label=\"店名\" href=\"/shop/141715-宮原眼科\" target=\"_blank\">宮原眼科</a>,\n",
       " <a class=\"a37 ga_tracking\" data-action=\"shop_10\" data-category=\"search\" data-label=\"店名\" href=\"/shop/114069-和茗甘味處\" target=\"_blank\">和茗甘味處</a>,\n",
       " <a class=\"a37 ga_tracking\" data-action=\"shop_11\" data-category=\"search\" data-label=\"店名\" href=\"/shop/141831-小六食堂\" target=\"_blank\">小六食堂</a>,\n",
       " <a class=\"a37 ga_tracking\" data-action=\"shop_12\" data-category=\"search\" data-label=\"店名\" href=\"/shop/941562-叁和院-台灣風格飲食-忠孝旗艦店\" target=\"_blank\">叁和院 台灣風格飲食(忠孝旗艦店)</a>,\n",
       " <a class=\"a37 ga_tracking\" data-action=\"shop_13\" data-category=\"search\" data-label=\"店名\" href=\"/shop/141337-蘑菇森林義大利麵坊\" target=\"_blank\">蘑菇森林義大利麵坊</a>,\n",
       " <a class=\"a37 ga_tracking\" data-action=\"shop_14\" data-category=\"search\" data-label=\"店名\" href=\"/shop/100314-貓咪先生的朋友\" target=\"_blank\">貓咪先生的朋友</a>,\n",
       " <a class=\"a37 ga_tracking\" data-action=\"shop_15\" data-category=\"search\" data-label=\"店名\" href=\"/shop/612904-UZNA-OMOM-杏桃鬆餅屋\" target=\"_blank\">UZNA OMOM 杏桃鬆餅屋</a>]"
      ]
     },
     "execution_count": 12,
     "metadata": {},
     "output_type": "execute_result"
    }
   ],
   "source": [
    "soup.find_all('a', attrs={'data-label': '店名'})"
   ]
  },
  {
   "cell_type": "code",
   "execution_count": null,
   "metadata": {
    "collapsed": true
   },
   "outputs": [],
   "source": []
  }
 ],
 "metadata": {
  "kernelspec": {
   "display_name": "Python 3",
   "language": "python",
   "name": "python3"
  },
  "language_info": {
   "codemirror_mode": {
    "name": "ipython",
    "version": 3
   },
   "file_extension": ".py",
   "mimetype": "text/x-python",
   "name": "python",
   "nbconvert_exporter": "python",
   "pygments_lexer": "ipython3",
   "version": "3.6.3"
  }
 },
 "nbformat": 4,
 "nbformat_minor": 2
}
